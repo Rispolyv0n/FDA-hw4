{
 "cells": [
  {
   "cell_type": "markdown",
   "metadata": {},
   "source": [
    "# Sentiment Analysis\n",
    "用 nltk 的 SentimentIntensityAnalyzer 找出評論的情緒正負面傾向，將得到的情緒指標(`Sentiment`)與評論的使用者評分(`rating`)做比較，得到較理想的正負評(`polarity`)劃分範圍。"
   ]
  },
  {
   "cell_type": "code",
   "execution_count": 4,
   "metadata": {},
   "outputs": [
    {
     "name": "stdout",
     "output_type": "stream",
     "text": [
      "(161297, 7)\n",
      "\n",
      "\n",
      "   Unnamed: 0                  drugName                     condition  \\\n",
      "0      206461                 Valsartan  Left Ventricular Dysfunction   \n",
      "1       95260                Guanfacine                          ADHD   \n",
      "2       92703                    Lybrel                 Birth Control   \n",
      "3      138000                Ortho Evra                 Birth Control   \n",
      "4       35696  Buprenorphine / naloxone             Opiate Dependence   \n",
      "\n",
      "                                              review  rating  \\\n",
      "0  \"It has no side effect, I take it in combinati...     9.0   \n",
      "1  \"My son is halfway through his fourth week of ...     8.0   \n",
      "2  \"I used to take another oral contraceptive, wh...     5.0   \n",
      "3  \"This is my first time using any form of birth...     8.0   \n",
      "4  \"Suboxone has completely turned my life around...     9.0   \n",
      "\n",
      "                date  usefulCount  \n",
      "0       May 20, 2012           27  \n",
      "1     April 27, 2010          192  \n",
      "2  December 14, 2009           17  \n",
      "3   November 3, 2015           10  \n",
      "4  November 27, 2016           37  \n"
     ]
    }
   ],
   "source": [
    "# Read data\n",
    "\n",
    "import pandas as pd\n",
    "import numpy as np\n",
    "\n",
    "train_data_path = './drugsComments/train.tsv'\n",
    "test_data_path = './drugsComments/test.tsv'\n",
    "\n",
    "train_df = pd.read_csv(train_data_path, sep='\\t')\n",
    "test_df = pd.read_csv(test_data_path, sep='\\t')\n",
    "\n",
    "print(train_df.shape)\n",
    "print('\\n')\n",
    "print(train_df.head())"
   ]
  },
  {
   "cell_type": "code",
   "execution_count": 5,
   "metadata": {},
   "outputs": [
    {
     "name": "stdout",
     "output_type": "stream",
     "text": [
      "(161297, 5)\n",
      "                   drugName                     condition  \\\n",
      "0                 Valsartan  Left Ventricular Dysfunction   \n",
      "1                Guanfacine                          ADHD   \n",
      "2                    Lybrel                 Birth Control   \n",
      "3                Ortho Evra                 Birth Control   \n",
      "4  Buprenorphine / naloxone             Opiate Dependence   \n",
      "\n",
      "                                              review  rating  usefulCount  \n",
      "0  \"It has no side effect, I take it in combinati...     9.0           27  \n",
      "1  \"My son is halfway through his fourth week of ...     8.0          192  \n",
      "2  \"I used to take another oral contraceptive, wh...     5.0           17  \n",
      "3  \"This is my first time using any form of birth...     8.0           10  \n",
      "4  \"Suboxone has completely turned my life around...     9.0           37  \n",
      "\n",
      "\n",
      "<class 'pandas.core.frame.DataFrame'>\n",
      "RangeIndex: 161297 entries, 0 to 161296\n",
      "Data columns (total 5 columns):\n",
      "drugName       161297 non-null object\n",
      "condition      160398 non-null object\n",
      "review         161297 non-null object\n",
      "rating         161297 non-null float64\n",
      "usefulCount    161297 non-null int64\n",
      "dtypes: float64(1), int64(1), object(3)\n",
      "memory usage: 6.2+ MB\n",
      "None\n"
     ]
    }
   ],
   "source": [
    "# Drop unnecessary columns: Unnamed & date\n",
    "\n",
    "train_df.drop(columns=['Unnamed: 0', 'date'], inplace=True)\n",
    "test_df.drop(columns=['Unnamed: 0', 'date'], inplace=True)\n",
    "\n",
    "print(train_df.shape)\n",
    "print(train_df.head())\n",
    "print('\\n')\n",
    "\n",
    "# Check if there is any null value\n",
    "\n",
    "print(train_df.info())"
   ]
  },
  {
   "cell_type": "markdown",
   "metadata": {},
   "source": [
    "以下一樣根據`drugName`, `condition`兩個欄位建立藥名及症狀停用字set，用來過濾使用心得，以便下面做情緒分析。"
   ]
  },
  {
   "cell_type": "code",
   "execution_count": 6,
   "metadata": {},
   "outputs": [
    {
     "name": "stdout",
     "output_type": "stream",
     "text": [
      "drug names which are filtered out:\n",
      "\n",
      "43</span> users found this comment helpful.\n",
      "142</span> users found this comment helpful.\n",
      "25</span> users found this comment helpful.\n",
      "6</span> users found this comment helpful.\n",
      "46</span> users found this comment helpful.\n",
      "98</span> users found this comment helpful.\n",
      "30</span> users found this comment helpful.\n",
      "95</span> users found this comment helpful.\n",
      "4</span> users found this comment helpful.\n",
      "123</span> users found this comment helpful.\n",
      "2</span> users found this comment helpful.\n",
      "45</span> users found this comment helpful.\n",
      "27</span> users found this comment helpful.\n",
      "0</span> users found this comment helpful.\n",
      "17</span> users found this comment helpful.\n",
      "22</span> users found this comment helpful.\n",
      "12</span> users found this comment helpful.\n",
      "14</span> users found this comment helpful.\n",
      "72</span> users found this comment helpful.\n",
      "28</span> users found this comment helpful.\n",
      "47</span> users found this comment helpful.\n",
      "54</span> users found this comment helpful.\n",
      "21</span> users found this comment helpful.\n",
      "100</span> users found this comment helpful.\n",
      "10</span> users found this comment helpful.\n",
      "146</span> users found this comment helpful.\n",
      "33</span> users found this comment helpful.\n",
      "99</span> users found this comment helpful.\n",
      "24</span> users found this comment helpful.\n",
      "3</span> users found this comment helpful.\n",
      "42</span> users found this comment helpful.\n",
      "77</span> users found this comment helpful.\n",
      "8</span> users found this comment helpful.\n",
      "83</span> users found this comment helpful.\n",
      "94</span> users found this comment helpful.\n",
      "64</span> users found this comment helpful.\n",
      "62</span> users found this comment helpful.\n",
      "18</span> users found this comment helpful.\n",
      "9</span> users found this comment helpful.\n",
      "48</span> users found this comment helpful.\n",
      "16</span> users found this comment helpful.\n",
      "34</span> users found this comment helpful.\n",
      "39</span> users found this comment helpful.\n",
      "31</span> users found this comment helpful.\n",
      "105</span> users found this comment helpful.\n",
      "145</span> users found this comment helpful.\n",
      "51</span> users found this comment helpful.\n",
      "11</span> users found this comment helpful.\n",
      "20</span> users found this comment helpful.\n",
      "23</span> users found this comment helpful.\n",
      "37</span> users found this comment helpful.\n",
      "110</span> users found this comment helpful.\n",
      "63</span> users found this comment helpful.\n",
      "92</span> users found this comment helpful.\n",
      "55</span> users found this comment helpful.\n",
      "1</span> users found this comment helpful.\n",
      "61</span> users found this comment helpful.\n",
      "13</span> users found this comment helpful.\n",
      "35</span> users found this comment helpful.\n",
      "135</span> users found this comment helpful.\n",
      "79</span> users found this comment helpful.\n",
      "26</span> users found this comment helpful.\n",
      "32</span> users found this comment helpful.\n",
      "19</span> users found this comment helpful.\n",
      "36</span> users found this comment helpful.\n",
      "38</span> users found this comment helpful.\n",
      "85</span> users found this comment helpful.\n",
      "75</span> users found this comment helpful.\n",
      "70</span> users found this comment helpful.\n",
      "74</span> users found this comment helpful.\n",
      "121</span> users found this comment helpful.\n",
      "5</span> users found this comment helpful.\n",
      "44</span> users found this comment helpful.\n",
      "15</span> users found this comment helpful.\n",
      "41</span> users found this comment helpful.\n",
      "29</span> users found this comment helpful.\n",
      "76</span> users found this comment helpful.\n",
      "40</span> users found this comment helpful.\n",
      "7</span> users found this comment helpful.\n",
      "84</span> users found this comment helpful.\n",
      "\n",
      "size of drugSet:\n",
      "4279\n",
      "\n",
      "First 20 drugs in drugSet:\n",
      "\n",
      "euvolemic hyponatremia\n",
      "nuwiq\n",
      "lincocin\n",
      "tetrahydrozoline\n",
      "pamelor\n",
      "gastrointestinal hemorrhage\n",
      "belimumab\n",
      "reversal of nondepolarizing muscle relaxants\n",
      "sustiva\n",
      "tazobactam\n",
      "lopressor\n",
      "fenofibrate\n",
      "xeomin\n",
      "rosiglitazone\n",
      "rapaflo\n",
      "regorafenib\n",
      "amoxapine\n",
      "fluvoxamine\n",
      "liquid co-q\n"
     ]
    }
   ],
   "source": [
    "# Keep a set which includes all the names of drugs and conditions occurred in the dataset.\n",
    "\n",
    "import re\n",
    "from nltk.stem import WordNetLemmatizer\n",
    "from nltk.stem import PorterStemmer\n",
    "from nltk.sentiment.vader import SentimentIntensityAnalyzer\n",
    "\n",
    "REPLACE_NO_SPACE = re.compile(\"[.;:!\\'?,\\\"()\\[\\]]\")\n",
    "lemmatizer = WordNetLemmatizer()\n",
    "stemmer = PorterStemmer()\n",
    "\n",
    "drugNameSet_train = set(train_df['drugName'])\n",
    "conditionNameSet_train = set(train_df['condition'])\n",
    "drugNameSet_test = set(test_df['drugName'])\n",
    "conditionNameSet_test = set(test_df['condition'])\n",
    "\n",
    "oldDrugSet = drugNameSet_train | conditionNameSet_train | drugNameSet_test | conditionNameSet_test\n",
    "\n",
    "drugSet = set()\n",
    "\n",
    "print('drug names which are filtered out:\\n')\n",
    "for drug in oldDrugSet:\n",
    "    drugStr = str(drug).lower()\n",
    "    if not(\"helpful.\" in drugStr):\n",
    "        drugStr = REPLACE_NO_SPACE.sub(\"\", drugStr)\n",
    "        drugStr = re.sub(\"\\d+\", \"\", drugStr)\n",
    "        drugList = drugStr.split(' / ')\n",
    "        for item in drugList:\n",
    "            drugSet.add(item)\n",
    "    else:\n",
    "        print(drugStr)\n",
    "\n",
    "drugSet.remove('nan')\n",
    "\n",
    "# Print `drugSet`\n",
    "\n",
    "print('\\nsize of drugSet:')\n",
    "print(len(drugSet))\n",
    "\n",
    "print('\\nFirst 20 drugs in drugSet:')\n",
    "showNum = 20\n",
    "countNum = 0\n",
    "for drug in drugSet:\n",
    "    print(drug)\n",
    "    countNum += 1\n",
    "    if(countNum == showNum):\n",
    "        break"
   ]
  },
  {
   "cell_type": "code",
   "execution_count": 7,
   "metadata": {},
   "outputs": [
    {
     "data": {
      "text/plain": [
       "<Figure size 640x480 with 1 Axes>"
      ]
     },
     "metadata": {},
     "output_type": "display_data"
    },
    {
     "name": "stdout",
     "output_type": "stream",
     "text": [
      "rating\n",
      "1.0     21619\n",
      "2.0      6931\n",
      "3.0      6513\n",
      "4.0      5012\n",
      "5.0      8013\n",
      "6.0      6343\n",
      "7.0      9456\n",
      "8.0     18890\n",
      "9.0     27531\n",
      "10.0    50989\n",
      "dtype: int64\n"
     ]
    }
   ],
   "source": [
    "# Plot the counts of each ratings\n",
    "\n",
    "import matplotlib.pyplot as plt\n",
    "import seaborn as sns\n",
    "\n",
    "plt.figure()\n",
    "sns.set(style=\"darkgrid\")\n",
    "ax = sns.countplot(x=\"rating\", data=train_df)\n",
    "plt.show()\n",
    "print(train_df.groupby(['rating']).size())"
   ]
  },
  {
   "cell_type": "code",
   "execution_count": 8,
   "metadata": {},
   "outputs": [
    {
     "name": "stdout",
     "output_type": "stream",
     "text": [
      "    rating polarity\n",
      "0      9.0        1\n",
      "1      8.0        1\n",
      "2      5.0        0\n",
      "3      8.0        1\n",
      "4      9.0        1\n",
      "5      2.0       -1\n",
      "6      1.0       -1\n",
      "7     10.0        1\n",
      "8      1.0       -1\n",
      "9      8.0        1\n",
      "10     9.0        1\n",
      "11    10.0        1\n",
      "12     4.0       -1\n",
      "13     4.0       -1\n",
      "14     3.0       -1\n",
      "15     9.0        1\n",
      "16     9.0        1\n",
      "17     9.0        1\n",
      "18    10.0        1\n",
      "19    10.0        1\n",
      "20     8.0        1\n",
      "21    10.0        1\n",
      "22     9.0        1\n",
      "23    10.0        1\n",
      "24     1.0       -1\n",
      "25     7.0        0\n",
      "26    10.0        1\n",
      "27    10.0        1\n",
      "28     6.0        0\n",
      "29     8.0        1\n",
      "\n",
      "training data:\n"
     ]
    },
    {
     "data": {
      "image/png": "[encoded data removed]",
      "text/plain": [
       "<Figure size 432x288 with 1 Axes>"
      ]
     },
     "metadata": {
      "needs_background": "light"
     },
     "output_type": "display_data"
    },
    {
     "name": "stdout",
     "output_type": "stream",
     "text": [
      "testing data:\n"
     ]
    },
    {
     "data": {
      "image/png": "[encoded data removed]",
      "text/plain": [
       "<Figure size 432x288 with 1 Axes>"
      ]
     },
     "metadata": {},
     "output_type": "display_data"
    }
   ],
   "source": [
    "# Define `polarity`\n",
    "\n",
    "train_df['polarity'] = pd.cut(train_df['rating'], bins=[-1, 4, 7, 10], labels=[-1, 0, 1])\n",
    "test_df['polarity'] = pd.cut(test_df['rating'], bins=[-1, 4, 7, 10], labels=[-1, 0, 1])\n",
    "\n",
    "print(train_df[['rating', 'polarity']].head(30))\n",
    "\n",
    "\n",
    "# Plot the counts of each `polarity`\n",
    "\n",
    "print('\\ntraining data:')\n",
    "plt.figure()\n",
    "sns.set()\n",
    "ax = sns.countplot(x=\"polarity\", data=train_df)\n",
    "plt.show()\n",
    "\n",
    "print('testing data:')\n",
    "plt.figure()\n",
    "sns.set()\n",
    "ax = sns.countplot(x=\"polarity\", data=test_df)\n",
    "plt.show()"
   ]
  },
  {
   "cell_type": "code",
   "execution_count": 9,
   "metadata": {},
   "outputs": [
    {
     "name": "stderr",
     "output_type": "stream",
     "text": [
      "  0%|          | 99/161297 [00:00<02:43, 984.27it/s]"
     ]
    },
    {
     "name": "stdout",
     "output_type": "stream",
     "text": [
      "before cleaning:\n",
      "\n",
      "['\"It has no side effect, I take it in combination of Bystolic 5 Mg and Fish Oil\"'\n",
      " '\"My son is halfway through his fourth week of Intuniv. We became concerned when he began this last week, when he started taking the highest dose he will be on. For two days, he could hardly get out of bed, was very cranky, and slept for nearly 8 hours on a drive home from school vacation (very unusual for him.) I called his doctor on Monday morning and she said to stick it out a few days. See how he did at school, and with getting up in the morning. The last two days have been problem free. He is MUCH more agreeable than ever. He is less emotional (a good thing), less cranky. He is remembering all the things he should. Overall his behavior is better. \\r\\nWe have tried many different medications and so far this is the most effective.\"'\n",
      " '\"I used to take another oral contraceptive, which had 21 pill cycle, and was very happy- very light periods, max 5 days, no other side effects. But it contained hormone gestodene, which is not available in US, so I switched to Lybrel, because the ingredients are similar. When my other pills ended, I started Lybrel immediately, on my first day of period, as the instructions said. And the period lasted for two weeks. When taking the second pack- same two weeks. And now, with third pack things got even worse- my third period lasted for two weeks and now it&#039;s the end of the third week- I still have daily brown discharge.\\r\\nThe positive side is that I didn&#039;t have any other side effects. The idea of being period free was so tempting... Alas.\"'\n",
      " '\"This is my first time using any form of birth control. I&#039;m glad I went with the patch, I have been on it for 8 months. At first It decreased my libido but that subsided. The only downside is that it made my periods longer (5-6 days to be exact) I used to only have periods for 3-4 days max also made my cramps intense for the first two days of my period, I never had cramps before using birth control. Other than that in happy with the patch\"'\n",
      " '\"Suboxone has completely turned my life around.  I feel healthier, I&#039;m excelling at my job and I always have money in my pocket and my savings account.  I had none of those before Suboxone and spent years abusing oxycontin.  My paycheck was already spent by the time I got it and I started resorting to scheming and stealing to fund my addiction.  All that is history.  If you&#039;re ready to stop, there&#039;s a good chance that suboxone will put you on the path of great life again.  I have found the side-effects to be minimal compared to oxycontin.  I&#039;m actually sleeping better.   Slight constipation is about it for me.  It truly is amazing. The cost pales in comparison to what I spent on oxycontin.\"']\n"
     ]
    },
    {
     "name": "stderr",
     "output_type": "stream",
     "text": [
      "100%|██████████| 161297/161297 [02:02<00:00, 1318.19it/s]\n",
      "100%|██████████| 53766/53766 [00:42<00:00, 1270.61it/s]"
     ]
    },
    {
     "name": "stdout",
     "output_type": "stream",
     "text": [
      "\n",
      "after cleaning:\n",
      "\n",
      "['It has no side effect I take it in combination of Bystolic 5 Mg and Fish Oil'\n",
      " 'My son is halfway through his fourth week of Intuniv We became concerned when he began this last week when he started taking the highest dose he will be on For two days he could hardly get out of bed was very cranky and slept for nearly 8 hours on drive home from school vacation very unusual for him I called his doctor on Monday morning and she said to stick it out few days See how he did at school and with getting up in the morning The last two days have been problem free He is MUCH more agreeable than ever He is less emotional good thing less cranky He is remembering all the things he should Overall his behavior is better We have tried many different medications and so far this is the most effective'\n",
      " 'I used to take another oral contraceptive which had 21 pill cycle and was very happy very light periods max 5 days no other side effects But it contained hormone gestodene which is not available in US so I switched to Lybrel because the ingredients are similar When my other pills ended I started Lybrel immediately on my first day of period as the instructions said And the period lasted for two weeks When taking the second pack same two weeks And now with third pack things got even worse my third period lasted for two weeks and now its the end of the third week I still have daily brown discharge The positive side is that I didnt have any other side effects The idea of being period free was so tempting Alas'\n",
      " 'This is my first time using any form of birth control Im glad I went with the patch I have been on it for 8 months At first It decreased my libido but that subsided The only downside is that it made my periods longer 5 6 days to be exact I used to only have periods for 3 4 days max also made my cramps intense for the first two days of my period I never had cramps before using birth control Other than that in happy with the patch'\n",
      " 'Suboxone has completely turned my life around I feel healthier Im excelling at my job and I always have money in my pocket and my savings account I had none of those before Suboxone and spent years abusing My paycheck was already spent by the time I got it and I started resorting to scheming and stealing to fund my addiction All that is history If youre ready to stop theres good chance that will put you on the path of great life again I have found the side effects to be minimal compared to Im actually sleeping better Slight is about it for It truly is amazing The cost pales in comparison to what I spent on']\n"
     ]
    },
    {
     "name": "stderr",
     "output_type": "stream",
     "text": [
      "\n"
     ]
    }
   ],
   "source": [
    "# Text cleaning\n",
    "\n",
    "from nltk.tokenize import sent_tokenize, word_tokenize\n",
    "from nltk.corpus import stopwords\n",
    "from tqdm import tqdm\n",
    "\n",
    "tqdm.pandas()\n",
    "\n",
    "REPLACE_NO_SPACE = re.compile(\"[.;:!\\'?,\\\"()\\[\\]]\")\n",
    "REPLACE_WITH_SPACE = re.compile(\"(<br\\s*/><br\\s*/>)|(\\-)|(\\/)\")\n",
    "\n",
    "stopWords = set(stopwords.words('english'))\n",
    "\n",
    "def filter_stopwords(sentence):\n",
    "    sentence = sentence.replace(\"&#039;\", \"'\")\n",
    "    sentence = REPLACE_NO_SPACE.sub(\"\", sentence)\n",
    "    sentence = REPLACE_WITH_SPACE.sub(\" \", sentence)\n",
    "    \n",
    "    words = word_tokenize(sentence)\n",
    "    wordsFiltered = []\n",
    "    for w in words:\n",
    "        if (w not in drugSet):\n",
    "            wordsFiltered.append(w)\n",
    "    joinStr = \" \"\n",
    "    return joinStr.join(wordsFiltered)\n",
    "\n",
    "\n",
    "print('before cleaning:\\n')\n",
    "print(train_df['review'].head().values)\n",
    "\n",
    "train_df['review'] = train_df['review'].progress_apply(filter_stopwords)\n",
    "test_df['review'] = test_df['review'].progress_apply(filter_stopwords)\n",
    "\n",
    "print('\\nafter cleaning:\\n')\n",
    "print(train_df['review'].head().values)"
   ]
  },
  {
   "cell_type": "code",
   "execution_count": null,
   "metadata": {},
   "outputs": [],
   "source": [
    "# Pre-Processing\n",
    "SIA = SentimentIntensityAnalyzer()\n",
    "\n",
    "# Applying Model, Variable Creation\n",
    "train_df['Sentiment Score']=train_df[\"review\"].apply(lambda x:SIA.polarity_scores(x)['compound'])\n",
    "train_df['Neutral Score']=train_df[\"review\"].apply(lambda x:SIA.polarity_scores(x)['neu'])\n",
    "train_df['Negative Score']=train_df[\"review\"].apply(lambda x:SIA.polarity_scores(x)['neg'])\n",
    "train_df['Positive Score']=train_df[\"review\"].apply(lambda x:SIA.polarity_scores(x)['pos'])"
   ]
  },
  {
   "cell_type": "code",
   "execution_count": 12,
   "metadata": {},
   "outputs": [
    {
     "name": "stdout",
     "output_type": "stream",
     "text": [
      "                              drugName                     condition  \\\n",
      "0                            Valsartan  Left Ventricular Dysfunction   \n",
      "1                           Guanfacine                          ADHD   \n",
      "2                               Lybrel                 Birth Control   \n",
      "3                           Ortho Evra                 Birth Control   \n",
      "4             Buprenorphine / naloxone             Opiate Dependence   \n",
      "5                               Cialis  Benign Prostatic Hyperplasia   \n",
      "6                       Levonorgestrel       Emergency Contraception   \n",
      "7                         Aripiprazole               Bipolar Disorde   \n",
      "8                               Keppra                      Epilepsy   \n",
      "9   Ethinyl estradiol / levonorgestrel                 Birth Control   \n",
      "10                          Topiramate           Migraine Prevention   \n",
      "11                      L-methylfolate                    Depression   \n",
      "12                             Pentasa               Crohn's Disease   \n",
      "13                    Dextromethorphan                         Cough   \n",
      "14                           Nexplanon                 Birth Control   \n",
      "\n",
      "                                               review  rating  usefulCount  \\\n",
      "0   It has no side effect I take it in combination...     9.0           27   \n",
      "1   My son is halfway through his fourth week of I...     8.0          192   \n",
      "2   I used to take another oral contraceptive whic...     5.0           17   \n",
      "3   This is my first time using any form of birth ...     8.0           10   \n",
      "4   Suboxone has completely turned my life around ...     9.0           37   \n",
      "5   2nd day on 5mg started to work with rock hard ...     2.0           43   \n",
      "6   He pulled out but he cummed bit in I took the ...     1.0            5   \n",
      "7   Abilify changed my life There is hope I was on...    10.0           32   \n",
      "8   I Ve had nothing but problems with the Keppera...     1.0           11   \n",
      "9   I had been on the pill for many years When my ...     8.0            1   \n",
      "10  I have been on this medication almost two week...     9.0           19   \n",
      "11  I have taken anti depressants for years with s...    10.0           54   \n",
      "12  I had Crohns with resection 30 years ago and h...     4.0            8   \n",
      "13  Have little bit of lingering from cold Not giv...     4.0            1   \n",
      "14  Started Nexplanon 2 months ago because I have ...     3.0           10   \n",
      "\n",
      "   polarity  commentLength  Sentiment Score  Neutral Score  Negative Score  \\\n",
      "0         1             76          -0.2960          0.864           0.136   \n",
      "1         1            710           0.9172          0.870           0.018   \n",
      "2         0            714           0.6387          0.868           0.055   \n",
      "3         1            432           0.7184          0.876           0.028   \n",
      "4         1            613           0.9403          0.749           0.067   \n",
      "5        -1            368          -0.8658          0.765           0.211   \n",
      "6        -1            119           0.0000          1.000           0.000   \n",
      "7         1            685          -0.8290          0.776           0.138   \n",
      "8        -1            186          -0.5593          0.677           0.207   \n",
      "9         1            658          -0.7177          0.647           0.186   \n",
      "10        1            696           0.2479          0.729           0.132   \n",
      "11        1            417           0.8722          0.594           0.172   \n",
      "12       -1            371          -0.8591          0.844           0.156   \n",
      "13       -1            516          -0.7589          0.809           0.122   \n",
      "14       -1            714          -0.3809          0.841           0.092   \n",
      "\n",
      "    Positive Score Sentiment  \n",
      "0            0.000  Negative  \n",
      "1            0.112  Positive  \n",
      "2            0.077  Positive  \n",
      "3            0.096  Positive  \n",
      "4            0.184  Positive  \n",
      "5            0.024  Negative  \n",
      "6            0.000   Neutral  \n",
      "7            0.087  Negative  \n",
      "8            0.116  Negative  \n",
      "9            0.167  Negative  \n",
      "10           0.138  Positive  \n",
      "11           0.234  Positive  \n",
      "12           0.000  Negative  \n",
      "13           0.069  Negative  \n",
      "14           0.067  Negative  \n"
     ]
    }
   ],
   "source": [
    "# Converting 0 to 1 Decimal Score to a Categorical Variable\n",
    "train_df['Sentiment']=''\n",
    "train_df.loc[train_df['Sentiment Score']>0,'Sentiment']='Positive'\n",
    "train_df.loc[train_df['Sentiment Score']==0,'Sentiment']='Neutral'\n",
    "train_df.loc[train_df['Sentiment Score']<0,'Sentiment']='Negative'\n",
    "\n",
    "print(train_df.head(15))"
   ]
  },
  {
   "cell_type": "code",
   "execution_count": 14,
   "metadata": {},
   "outputs": [
    {
     "data": {
      "image/png": "[encoded data removed]",
      "text/plain": [
       "<Figure size 648x648 with 4 Axes>"
      ]
     },
     "metadata": {},
     "output_type": "display_data"
    }
   ],
   "source": [
    "def percentstandardize_barplot(x,y,hue, data, ax=None, order= None):\n",
    "    sns.barplot(x= x, y=y, hue=hue, ax=ax, order=order,\n",
    "    data=(data[[x, hue]]\n",
    "     .reset_index(drop=True)\n",
    "     .groupby([x])[hue]\n",
    "     .value_counts(normalize=True)\n",
    "     .rename('Percentage').mul(100)\n",
    "     .reset_index()\n",
    "     .sort_values(hue)))\n",
    "    plt.title(\"Percentage Frequency of {} by {}\".format(hue,x))\n",
    "    plt.ylabel(\"Percentage %\")\n",
    "\n",
    "f, axes = plt.subplots(2,2, figsize=[9,9])\n",
    "sns.countplot(x=\"Sentiment\", data=train_df, ax=axes[0,0], order=[\"Negative\",\"Neutral\",\"Positive\"])\n",
    "axes[0,0].set_xlabel(\"Sentiment\")\n",
    "axes[0,0].set_ylabel(\"Count\")\n",
    "axes[0,0].set_title(\"Sentiment Count\")\n",
    "\n",
    "sns.countplot(x=\"rating\", data=train_df, ax=axes[0,1])\n",
    "axes[0,1].set_xlabel(\"Rating\")\n",
    "axes[0,1].set_ylabel(\"\")\n",
    "axes[0,1].set_title(\"Rating Count\")\n",
    "\n",
    "percentstandardize_barplot(x=\"rating\",y=\"Percentage\",hue=\"Sentiment\",data=train_df, ax=axes[1,0])\n",
    "axes[1,0].set_xlabel(\"Rating\")\n",
    "axes[1,0].set_ylabel(\"Percentage %\")\n",
    "axes[1,0].set_title(\"sentiment ratio in each rating\")\n",
    "\n",
    "percentstandardize_barplot(x=\"Sentiment\",y=\"Percentage\",hue=\"rating\",data=train_df, ax=axes[1,1])\n",
    "axes[1,1].set_ylabel(\"count\")\n",
    "axes[1,1].set_title(\"rating count in each sentiment\")\n",
    "axes[1,1].set_xlabel(\"Sentiment\")\n",
    "axes[1,1].set_ylabel(\"\")\n",
    "\n",
    "f.suptitle(\"Distribution of Sentiment Score and Rating for Reviews\", fontsize=14)\n",
    "f.tight_layout()\n",
    "f.subplots_adjust(top=0.92)\n",
    "plt.show()"
   ]
  },
  {
   "cell_type": "code",
   "execution_count": 20,
   "metadata": {},
   "outputs": [
    {
     "data": {
      "image/png": "[encoded data removed]",
      "text/plain": [
       "<Figure size 432x288 with 1 Axes>"
      ]
     },
     "metadata": {},
     "output_type": "display_data"
    }
   ],
   "source": [
    "sns.countplot(x='Sentiment', hue='polarity',data=train_df, order=[\"Negative\",\"Neutral\",\"Positive\"])\n",
    "plt.title(\"Sentiment VS Polarity\")\n",
    "plt.ylabel(\"Count\")\n",
    "plt.show()"
   ]
  },
  {
   "cell_type": "markdown",
   "metadata": {},
   "source": [
    "在 baseline.ipynb 中的 `polarity` 是定義 1-4 分為負評(標記：-1), 5-7 分為中性評論(標記：0), 8-10 分為好評(標記：1)。但從上面的四格圖中的左下那張圖可以看到 `rating` 為 5 時，negative sentiment 跟 positive sentiment 的比例還是有一點差距，不像 `rating` 為 6 及 7 時兩個的比例那麼接近。四格圖的右下那張圖也可以看到，原本設定的中性評論 `rating` 範圍 6 及 7 在 negative, positive, neutral sentiment 中的數量都差不多，而 `rating` >= 8 時就可以看出明顯在 positive sentiment 中的數量比在 negative, neutral sentiment 中的數量多出很多，`rating` <= 5 則是明顯在 negative sentiment 中的數量比在 positive, neutral sentiment 中的數量多很多。因此在 hw4.ipynb 中可以考慮把 `polarity` 劃分範圍改為：1-5 分為負評(標記：-1), 6-7 分為中性評論(標記：0), 8-10 分為好評(標記：1)。"
   ]
  }
 ],
 "metadata": {
  "kernelspec": {
   "display_name": "Python 3",
   "language": "python",
   "name": "python3"
  },
  "language_info": {
   "codemirror_mode": {
    "name": "ipython",
    "version": 3
   },
   "file_extension": ".py",
   "mimetype": "text/x-python",
   "name": "python",
   "nbconvert_exporter": "python",
   "pygments_lexer": "ipython3",
   "version": "3.5.2"
  }
 },
 "nbformat": 4,
 "nbformat_minor": 2
}
