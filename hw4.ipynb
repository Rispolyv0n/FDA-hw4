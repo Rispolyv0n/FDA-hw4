{
 "cells": [
  {
   "cell_type": "markdown",
   "metadata": {},
   "source": [
    "# HW4 - Data Analytics\n",
    "\n",
    "## Files\n",
    "- ./drugsComments/train.csv: 藥物使用心得 - 訓練資料\n",
    "- ./drugsComments/test.csv: 藥物使用心得 - 測試資料\n",
    "- ./baseline.ipynb: baseline result (original result)\n",
    "- ./sentiment.ipynb: 利用 nltk 計算評論情緒正負面，比對`rating`欄位，找出適當的正面、負面、及中性評論的劃分依據。\n",
    "- ./hw4.ipynb: 作業主要檔案 (improvement)\n",
    "\n",
    "## Original Result\n",
    "- ./baseline.ipynb: baseline result (original result)\n",
    "\n",
    "## Analyze the data\n",
    "- sentiment.ipynb: 利用 nltk 計算評論情緒正負面，比對`rating`欄位，找出適當的正面、負面、及中性評論的劃分依據。\n",
    "\n",
    "## Define the problem\n",
    "根據文字評論內容判斷為正面(1)、負面(-1)、或中性評論(0)。"
   ]
  },
  {
   "cell_type": "markdown",
   "metadata": {},
   "source": [
    "## Preprocessing\n",
    "Have a peek of the data.\n",
    "According to the dataset description, there are 6 columns:\n",
    "1. drugName (categorical): name of drug \n",
    "2. condition (categorical): name of condition \n",
    "3. review (text): patient review \n",
    "4. rating (numerical): 10 star patient rating \n",
    "5. date (date): date of review entry \n",
    "6. usefulCount (numerical): number of users who found review useful"
   ]
  },
  {
   "cell_type": "code",
   "execution_count": 143,
   "metadata": {},
   "outputs": [
    {
     "name": "stdout",
     "output_type": "stream",
     "text": [
      "(161297, 7)\n",
      "\n",
      "\n",
      "   Unnamed: 0                  drugName                     condition  \\\n",
      "0      206461                 Valsartan  Left Ventricular Dysfunction   \n",
      "1       95260                Guanfacine                          ADHD   \n",
      "2       92703                    Lybrel                 Birth Control   \n",
      "3      138000                Ortho Evra                 Birth Control   \n",
      "4       35696  Buprenorphine / naloxone             Opiate Dependence   \n",
      "\n",
      "                                              review  rating  \\\n",
      "0  \"It has no side effect, I take it in combinati...     9.0   \n",
      "1  \"My son is halfway through his fourth week of ...     8.0   \n",
      "2  \"I used to take another oral contraceptive, wh...     5.0   \n",
      "3  \"This is my first time using any form of birth...     8.0   \n",
      "4  \"Suboxone has completely turned my life around...     9.0   \n",
      "\n",
      "                date  usefulCount  \n",
      "0       May 20, 2012           27  \n",
      "1     April 27, 2010          192  \n",
      "2  December 14, 2009           17  \n",
      "3   November 3, 2015           10  \n",
      "4  November 27, 2016           37  \n"
     ]
    }
   ],
   "source": [
    "# Read data\n",
    "\n",
    "import pandas as pd\n",
    "import numpy as np\n",
    "\n",
    "train_data_path = './drugsComments/train.tsv'\n",
    "test_data_path = './drugsComments/test.tsv'\n",
    "\n",
    "train_df = pd.read_csv(train_data_path, sep='\\t')\n",
    "test_df = pd.read_csv(test_data_path, sep='\\t')\n",
    "\n",
    "print(train_df.shape)\n",
    "print('\\n')\n",
    "print(train_df.head())"
   ]
  },
  {
   "cell_type": "markdown",
   "metadata": {},
   "source": [
    "Drop the columns `Unnamed` and `date`, which are unnecessary. Then, there are 5 columns left:"
   ]
  },
  {
   "cell_type": "code",
   "execution_count": 144,
   "metadata": {},
   "outputs": [
    {
     "name": "stdout",
     "output_type": "stream",
     "text": [
      "(161297, 4)\n",
      "                   drugName                     condition  \\\n",
      "0                 Valsartan  Left Ventricular Dysfunction   \n",
      "1                Guanfacine                          ADHD   \n",
      "2                    Lybrel                 Birth Control   \n",
      "3                Ortho Evra                 Birth Control   \n",
      "4  Buprenorphine / naloxone             Opiate Dependence   \n",
      "\n",
      "                                              review  rating  \n",
      "0  \"It has no side effect, I take it in combinati...     9.0  \n",
      "1  \"My son is halfway through his fourth week of ...     8.0  \n",
      "2  \"I used to take another oral contraceptive, wh...     5.0  \n",
      "3  \"This is my first time using any form of birth...     8.0  \n",
      "4  \"Suboxone has completely turned my life around...     9.0  \n",
      "\n",
      "\n",
      "<class 'pandas.core.frame.DataFrame'>\n",
      "RangeIndex: 161297 entries, 0 to 161296\n",
      "Data columns (total 4 columns):\n",
      "drugName     161297 non-null object\n",
      "condition    160398 non-null object\n",
      "review       161297 non-null object\n",
      "rating       161297 non-null float64\n",
      "dtypes: float64(1), object(3)\n",
      "memory usage: 4.9+ MB\n",
      "None\n"
     ]
    }
   ],
   "source": [
    "# Drop unnecessary columns: Unnamed & date\n",
    "\n",
    "train_df.drop(columns=['Unnamed: 0', 'date', 'usefulCount'], inplace=True)\n",
    "test_df.drop(columns=['Unnamed: 0', 'date', 'usefulCount'], inplace=True)\n",
    "\n",
    "print(train_df.shape)\n",
    "print(train_df.head())\n",
    "print('\\n')\n",
    "\n",
    "# Check if there is any null value\n",
    "\n",
    "print(train_df.info())"
   ]
  },
  {
   "cell_type": "markdown",
   "metadata": {},
   "source": [
    "We can see from the result below that there are null values only in 1 column (`condition`). Having these data with no specified condition is not a big issue for our defined problem, so I didn't drop those data."
   ]
  },
  {
   "cell_type": "code",
   "execution_count": 145,
   "metadata": {},
   "outputs": [
    {
     "name": "stdout",
     "output_type": "stream",
     "text": [
      "drug names which are filtered out:\n",
      "\n",
      "47</span> users found this comment helpful.\n",
      "46</span> users found this comment helpful.\n",
      "54</span> users found this comment helpful.\n",
      "121</span> users found this comment helpful.\n",
      "29</span> users found this comment helpful.\n",
      "13</span> users found this comment helpful.\n",
      "61</span> users found this comment helpful.\n",
      "1</span> users found this comment helpful.\n",
      "21</span> users found this comment helpful.\n",
      "36</span> users found this comment helpful.\n",
      "33</span> users found this comment helpful.\n",
      "26</span> users found this comment helpful.\n",
      "34</span> users found this comment helpful.\n",
      "145</span> users found this comment helpful.\n",
      "28</span> users found this comment helpful.\n",
      "30</span> users found this comment helpful.\n",
      "11</span> users found this comment helpful.\n",
      "5</span> users found this comment helpful.\n",
      "8</span> users found this comment helpful.\n",
      "23</span> users found this comment helpful.\n",
      "146</span> users found this comment helpful.\n",
      "27</span> users found this comment helpful.\n",
      "105</span> users found this comment helpful.\n",
      "123</span> users found this comment helpful.\n",
      "92</span> users found this comment helpful.\n",
      "31</span> users found this comment helpful.\n",
      "85</span> users found this comment helpful.\n",
      "20</span> users found this comment helpful.\n",
      "41</span> users found this comment helpful.\n",
      "74</span> users found this comment helpful.\n",
      "37</span> users found this comment helpful.\n",
      "51</span> users found this comment helpful.\n",
      "135</span> users found this comment helpful.\n",
      "19</span> users found this comment helpful.\n",
      "77</span> users found this comment helpful.\n",
      "24</span> users found this comment helpful.\n",
      "142</span> users found this comment helpful.\n",
      "2</span> users found this comment helpful.\n",
      "0</span> users found this comment helpful.\n",
      "15</span> users found this comment helpful.\n",
      "75</span> users found this comment helpful.\n",
      "72</span> users found this comment helpful.\n",
      "43</span> users found this comment helpful.\n",
      "10</span> users found this comment helpful.\n",
      "99</span> users found this comment helpful.\n",
      "40</span> users found this comment helpful.\n",
      "12</span> users found this comment helpful.\n",
      "63</span> users found this comment helpful.\n",
      "100</span> users found this comment helpful.\n",
      "48</span> users found this comment helpful.\n",
      "6</span> users found this comment helpful.\n",
      "83</span> users found this comment helpful.\n",
      "16</span> users found this comment helpful.\n",
      "70</span> users found this comment helpful.\n",
      "110</span> users found this comment helpful.\n",
      "35</span> users found this comment helpful.\n",
      "64</span> users found this comment helpful.\n",
      "17</span> users found this comment helpful.\n",
      "98</span> users found this comment helpful.\n",
      "4</span> users found this comment helpful.\n",
      "3</span> users found this comment helpful.\n",
      "38</span> users found this comment helpful.\n",
      "9</span> users found this comment helpful.\n",
      "14</span> users found this comment helpful.\n",
      "76</span> users found this comment helpful.\n",
      "62</span> users found this comment helpful.\n",
      "25</span> users found this comment helpful.\n",
      "44</span> users found this comment helpful.\n",
      "7</span> users found this comment helpful.\n",
      "95</span> users found this comment helpful.\n",
      "32</span> users found this comment helpful.\n",
      "39</span> users found this comment helpful.\n",
      "22</span> users found this comment helpful.\n",
      "45</span> users found this comment helpful.\n",
      "84</span> users found this comment helpful.\n",
      "42</span> users found this comment helpful.\n",
      "79</span> users found this comment helpful.\n",
      "18</span> users found this comment helpful.\n",
      "94</span> users found this comment helpful.\n",
      "55</span> users found this comment helpful.\n",
      "\n",
      "size of drugSet:\n",
      "4279\n",
      "\n",
      "First 20 drugs in drugSet:\n",
      "\n",
      "silvaden\n",
      "immunosuppress\n",
      "livalo\n",
      "benzodiazepine withdraw\n",
      "breast canc\n",
      "erosive esophag\n",
      "verdeso\n",
      "diverticul\n",
      "dextrostat\n",
      "lucenti\n",
      "saizen\n",
      "levocetirizin\n",
      "solarcaine burn relief\n",
      "human papillomavirus prophylaxi\n",
      "motion sick\n",
      "halog-\n",
      "derma-smooth\n",
      "estradiol\n",
      "xigduo xr\n"
     ]
    }
   ],
   "source": [
    "# Keep a set which includes all the names of drugs and conditions occurred in the dataset.\n",
    "\n",
    "import re\n",
    "from nltk.stem import WordNetLemmatizer\n",
    "from nltk.stem import PorterStemmer\n",
    "\n",
    "REPLACE_NO_SPACE = re.compile(\"[.;:!\\'?,\\\"()\\[\\]]\")\n",
    "lemmatizer = WordNetLemmatizer()\n",
    "stemmer = PorterStemmer()\n",
    "\n",
    "drugNameSet_train = set(train_df['drugName'])\n",
    "conditionNameSet_train = set(train_df['condition'])\n",
    "drugNameSet_test = set(test_df['drugName'])\n",
    "conditionNameSet_test = set(test_df['condition'])\n",
    "\n",
    "oldDrugSet = drugNameSet_train | conditionNameSet_train | drugNameSet_test | conditionNameSet_test\n",
    "\n",
    "drugSet = set()\n",
    "\n",
    "print('drug names which are filtered out:\\n')\n",
    "for drug in oldDrugSet:\n",
    "    drugStr = str(drug).lower()\n",
    "    if not(\"helpful.\" in drugStr):\n",
    "        drugStr = REPLACE_NO_SPACE.sub(\"\", drugStr)\n",
    "        drugStr = re.sub(\"\\d+\", \"\", drugStr)\n",
    "        drugList = drugStr.split(' / ')\n",
    "        for item in drugList:\n",
    "            #drugStr = lemmatizer.lemmatize(drugStr)\n",
    "            d = stemmer.stem(item)\n",
    "            drugSet.add(d)\n",
    "    else:\n",
    "        print(drugStr)\n",
    "\n",
    "drugSet.remove('nan')\n",
    "\n",
    "# Print `drugSet`\n",
    "\n",
    "print('\\nsize of drugSet:')\n",
    "print(len(drugSet))\n",
    "\n",
    "print('\\nFirst 20 drugs in drugSet:')\n",
    "showNum = 20\n",
    "countNum = 0\n",
    "for drug in drugSet:\n",
    "    print(drug)\n",
    "    countNum += 1\n",
    "    if(countNum == showNum):\n",
    "        break"
   ]
  },
  {
   "cell_type": "code",
   "execution_count": 146,
   "metadata": {},
   "outputs": [
    {
     "data": {
      "image/png": "[encoded data removed]",
      "text/plain": [
       "<Figure size 432x288 with 1 Axes>"
      ]
     },
     "metadata": {},
     "output_type": "display_data"
    },
    {
     "name": "stdout",
     "output_type": "stream",
     "text": [
      "rating\n",
      "1.0     21619\n",
      "2.0      6931\n",
      "3.0      6513\n",
      "4.0      5012\n",
      "5.0      8013\n",
      "6.0      6343\n",
      "7.0      9456\n",
      "8.0     18890\n",
      "9.0     27531\n",
      "10.0    50989\n",
      "dtype: int64\n"
     ]
    }
   ],
   "source": [
    "# Plot the counts of each ratings\n",
    "\n",
    "import matplotlib.pyplot as plt\n",
    "import seaborn as sns\n",
    "\n",
    "plt.figure()\n",
    "sns.set(style=\"darkgrid\")\n",
    "ax = sns.countplot(x=\"rating\", data=train_df)\n",
    "plt.show()\n",
    "print(train_df.groupby(['rating']).size())"
   ]
  },
  {
   "cell_type": "code",
   "execution_count": 147,
   "metadata": {},
   "outputs": [
    {
     "name": "stdout",
     "output_type": "stream",
     "text": [
      "(161297, 4)\n",
      "   drugName  condition                                             review  \\\n",
      "0      3203        466  \"It has no side effect, I take it in combinati...   \n",
      "1      1431         73  \"My son is halfway through his fourth week of ...   \n",
      "2      1854        165  \"I used to take another oral contraceptive, wh...   \n",
      "3      2285        165  \"This is my first time using any form of birth...   \n",
      "4       516        574  \"Suboxone has completely turned my life around...   \n",
      "\n",
      "   rating  \n",
      "0     9.0  \n",
      "1     8.0  \n",
      "2     5.0  \n",
      "3     8.0  \n",
      "4     9.0  \n",
      "            drugName      condition         rating\n",
      "count  161297.000000  161297.000000  161297.000000\n",
      "mean     1706.315610     356.111440       6.994377\n",
      "std       942.790948     236.961905       3.272329\n",
      "min         0.000000      -1.000000       1.000000\n",
      "25%       988.000000     165.000000       5.000000\n",
      "50%      1748.000000     262.000000       8.000000\n",
      "75%      2449.000000     563.000000      10.000000\n",
      "max      3435.000000     883.000000      10.000000\n"
     ]
    }
   ],
   "source": [
    "# Categorize the columns `drugName` and `condition`\n",
    "\n",
    "train_df['drugName'] = train_df['drugName'].astype('category')\n",
    "train_df['condition'] = train_df['condition'].astype('category')\n",
    "\n",
    "cat_columns = train_df.select_dtypes(['category']).columns\n",
    "train_df[cat_columns] = train_df[cat_columns].apply(lambda x: x.cat.codes)\n",
    "\n",
    "print(train_df.shape)\n",
    "print(train_df.head())\n",
    "print(train_df.describe())"
   ]
  },
  {
   "cell_type": "markdown",
   "metadata": {},
   "source": [
    "從上面的 dataframe info 可以看到 `rating` 平均約為 7。但是 sentiment.ipynb 中 plot 的結果，覺得可以把 `rating` 5 也當作負面評論。因此以下分配 `polarity` 時，將劃分依據改為1-5分為負評(標記：-1), 6-7分為中性評論(標記：0), 8-10分為好評(標記：1)。重新劃分完後，plot 出 training, testing data 的各個 `polarity` 數量。"
   ]
  },
  {
   "cell_type": "code",
   "execution_count": 148,
   "metadata": {},
   "outputs": [
    {
     "name": "stdout",
     "output_type": "stream",
     "text": [
      "    rating polarity\n",
      "0      9.0        1\n",
      "1      8.0        1\n",
      "2      5.0       -1\n",
      "3      8.0        1\n",
      "4      9.0        1\n",
      "5      2.0       -1\n",
      "6      1.0       -1\n",
      "7     10.0        1\n",
      "8      1.0       -1\n",
      "9      8.0        1\n",
      "10     9.0        1\n",
      "11    10.0        1\n",
      "12     4.0       -1\n",
      "13     4.0       -1\n",
      "14     3.0       -1\n",
      "15     9.0        1\n",
      "16     9.0        1\n",
      "17     9.0        1\n",
      "18    10.0        1\n",
      "19    10.0        1\n",
      "20     8.0        1\n",
      "21    10.0        1\n",
      "22     9.0        1\n",
      "23    10.0        1\n",
      "24     1.0       -1\n",
      "25     7.0        0\n",
      "26    10.0        1\n",
      "27    10.0        1\n",
      "28     6.0        0\n",
      "29     8.0        1\n",
      "\n",
      "training data:\n"
     ]
    },
    {
     "data": {
      "image/png": "[encoded data removed]",
      "text/plain": [
       "<Figure size 432x288 with 1 Axes>"
      ]
     },
     "metadata": {},
     "output_type": "display_data"
    },
    {
     "name": "stdout",
     "output_type": "stream",
     "text": [
      "testing data:\n"
     ]
    },
    {
     "data": {
      "image/png": "[encoded data removed]",
      "text/plain": [
       "<Figure size 432x288 with 1 Axes>"
      ]
     },
     "metadata": {},
     "output_type": "display_data"
    }
   ],
   "source": [
    "# Define `polarity`\n",
    "\n",
    "train_df['polarity'] = pd.cut(train_df['rating'], bins=[-1, 5, 7, 10], labels=[-1, 0, 1])\n",
    "test_df['polarity'] = pd.cut(test_df['rating'], bins=[-1, 5, 7, 10], labels=[-1, 0, 1])\n",
    "\n",
    "print(train_df[['rating', 'polarity']].head(30))\n",
    "\n",
    "\n",
    "# Plot the counts of each `polarity`\n",
    "\n",
    "print('\\ntraining data:')\n",
    "plt.figure()\n",
    "sns.set()\n",
    "ax = sns.countplot(x=\"polarity\", data=train_df)\n",
    "plt.show()\n",
    "\n",
    "print('testing data:')\n",
    "plt.figure()\n",
    "sns.set()\n",
    "ax = sns.countplot(x=\"polarity\", data=test_df)\n",
    "plt.show()"
   ]
  },
  {
   "cell_type": "markdown",
   "metadata": {},
   "source": [
    "從原本的文字內容可以看到其中夾雜很多跳脫字元、藥物及症狀專有名詞等，可能影響計算詞頻，所以利用regex及先前建立的drugSet去除這些字。從原本的 baseline.ipynb 中印出資料corpus中前幾百個詞會發現都是數字跟符號，因此這邊再多過濾掉底線('_')等符號及數字。也用 nltk 的 PorterStemmer 取出字根，再做 word count，希望減少 corpus(feature)數量，也避免因為英文字的變化形被辨認為不同單字而影響訓練結果。"
   ]
  },
  {
   "cell_type": "code",
   "execution_count": 149,
   "metadata": {},
   "outputs": [
    {
     "name": "stderr",
     "output_type": "stream",
     "text": [
      "  0%|          | 27/161297 [00:00<10:07, 265.62it/s]"
     ]
    },
    {
     "name": "stdout",
     "output_type": "stream",
     "text": [
      "before cleaning:\n",
      "\n",
      "['\"It has no side effect, I take it in combination of Bystolic 5 Mg and Fish Oil\"'\n",
      " '\"My son is halfway through his fourth week of Intuniv. We became concerned when he began this last week, when he started taking the highest dose he will be on. For two days, he could hardly get out of bed, was very cranky, and slept for nearly 8 hours on a drive home from school vacation (very unusual for him.) I called his doctor on Monday morning and she said to stick it out a few days. See how he did at school, and with getting up in the morning. The last two days have been problem free. He is MUCH more agreeable than ever. He is less emotional (a good thing), less cranky. He is remembering all the things he should. Overall his behavior is better. \\r\\nWe have tried many different medications and so far this is the most effective.\"'\n",
      " '\"I used to take another oral contraceptive, which had 21 pill cycle, and was very happy- very light periods, max 5 days, no other side effects. But it contained hormone gestodene, which is not available in US, so I switched to Lybrel, because the ingredients are similar. When my other pills ended, I started Lybrel immediately, on my first day of period, as the instructions said. And the period lasted for two weeks. When taking the second pack- same two weeks. And now, with third pack things got even worse- my third period lasted for two weeks and now it&#039;s the end of the third week- I still have daily brown discharge.\\r\\nThe positive side is that I didn&#039;t have any other side effects. The idea of being period free was so tempting... Alas.\"'\n",
      " '\"This is my first time using any form of birth control. I&#039;m glad I went with the patch, I have been on it for 8 months. At first It decreased my libido but that subsided. The only downside is that it made my periods longer (5-6 days to be exact) I used to only have periods for 3-4 days max also made my cramps intense for the first two days of my period, I never had cramps before using birth control. Other than that in happy with the patch\"'\n",
      " '\"Suboxone has completely turned my life around.  I feel healthier, I&#039;m excelling at my job and I always have money in my pocket and my savings account.  I had none of those before Suboxone and spent years abusing oxycontin.  My paycheck was already spent by the time I got it and I started resorting to scheming and stealing to fund my addiction.  All that is history.  If you&#039;re ready to stop, there&#039;s a good chance that suboxone will put you on the path of great life again.  I have found the side-effects to be minimal compared to oxycontin.  I&#039;m actually sleeping better.   Slight constipation is about it for me.  It truly is amazing. The cost pales in comparison to what I spent on oxycontin.\"']\n"
     ]
    },
    {
     "name": "stderr",
     "output_type": "stream",
     "text": [
      "100%|██████████| 161297/161297 [08:41<00:00, 309.05it/s]\n",
      "100%|██████████| 53766/53766 [02:52<00:00, 311.53it/s]"
     ]
    },
    {
     "name": "stdout",
     "output_type": "stream",
     "text": [
      "\n",
      "after cleaning:\n",
      "\n",
      "['ha side effect take combin mg fish oil'\n",
      " 'son halfway hi fourth week becam concern began thi last week start take highest dose two day could hardli get bed wa veri cranki slept nearli hour drive home school vacat veri unusu call hi doctor monday morn said stick day see school get morn last two day problem free much agreeabl ever less emot good thing less cranki rememb thing overal hi behavior better tri mani differ medic far thi effect'\n",
      " 'use take anoth oral contracept pill cycl wa veri happi veri light period max day side effect contain hormon gestoden avail us switch becaus ingredi similar pill end start immedi first day period instruct said period last two week take second pack two week third pack thing got even wors third period last two week end third week still daili brown discharg posit side didnt ani side effect idea period free wa tempt ala'\n",
      " 'thi first time use ani form birth control glad went patch month first decreas libido subsid onli downsid made period longer day exact use onli period day max also made cramp intens first two day period never cramp befor use birth control happi patch'\n",
      " 'ha complet turn life around feel healthier excel job alway money pocket save account none befor spent year abus paycheck wa alreadi spent time got start resort scheme steal fund addict histori readi stop good chanc put path great life found side effect minim compar actual sleep better slight truli amaz cost pale comparison spent']\n"
     ]
    },
    {
     "name": "stderr",
     "output_type": "stream",
     "text": [
      "\n"
     ]
    }
   ],
   "source": [
    "# Text cleaning\n",
    "\n",
    "from nltk.tokenize import sent_tokenize, word_tokenize\n",
    "from nltk.corpus import stopwords\n",
    "from tqdm import tqdm\n",
    "\n",
    "tqdm.pandas()\n",
    "\n",
    "REPLACE_NO_SPACE = re.compile(\"[.;:!ツ_\\'?,\\\"()\\[\\]]\")\n",
    "REPLACE_WITH_SPACE = re.compile(\"(<br\\s*/><br\\s*/>)|(\\-)|(\\/)\")\n",
    "\n",
    "stopWords = set(stopwords.words('english'))\n",
    "\n",
    "def filter_stopwords(sentence):\n",
    "    sentence = sentence.replace(\"&#039;\", \"'\")\n",
    "    sentence = sentence.lower()\n",
    "    \n",
    "    sentence = REPLACE_NO_SPACE.sub(\"\", sentence)\n",
    "    sentence = REPLACE_WITH_SPACE.sub(\" \", sentence)\n",
    "    sentence = re.sub(\"\\d+\", \"\", sentence)\n",
    "    \n",
    "    words = word_tokenize(sentence)\n",
    "    wordsFiltered = []\n",
    "    for w in words:\n",
    "        #w_lemma = lemmatizer.lemmatize(w)\n",
    "        w_lemma = stemmer.stem(w)\n",
    "        if (w_lemma not in stopWords) and (w_lemma not in drugSet):\n",
    "            wordsFiltered.append(w_lemma)\n",
    "    joinStr = \" \"\n",
    "    return joinStr.join(wordsFiltered)\n",
    "\n",
    "\n",
    "print('before cleaning:\\n')\n",
    "print(train_df['review'].head().values)\n",
    "\n",
    "train_df['review'] = train_df['review'].progress_apply(filter_stopwords)\n",
    "test_df['review'] = test_df['review'].progress_apply(filter_stopwords)\n",
    "\n",
    "print('\\nafter cleaning:\\n')\n",
    "print(train_df['review'].head().values)"
   ]
  },
  {
   "cell_type": "markdown",
   "metadata": {},
   "source": [
    "plot 出每個評論的長度會發現有少數幾十個長度超過1000字的評論，從 dataframe info 也可以看到平均評論長度只有200字左右，最長的評論卻有多達近6000字，因此也將過長的評論過濾掉，避免訓練時因為這些少數較密集的資料造成訓練結果偏差。"
   ]
  },
  {
   "cell_type": "code",
   "execution_count": 150,
   "metadata": {},
   "outputs": [
    {
     "name": "stdout",
     "output_type": "stream",
     "text": [
      "before filter:\n",
      "\n",
      "            drugName      condition         rating  commentLength\n",
      "count  161297.000000  161297.000000  161297.000000  161297.000000\n",
      "mean     1706.315610     356.111440       6.994377     239.896470\n",
      "std       942.790948     236.961905       3.272329     130.128886\n",
      "min         0.000000      -1.000000       1.000000       0.000000\n",
      "25%       988.000000     165.000000       5.000000     135.000000\n",
      "50%      1748.000000     262.000000       8.000000     236.000000\n",
      "75%      2449.000000     563.000000      10.000000     354.000000\n",
      "max      3435.000000     883.000000      10.000000    5750.000000\n",
      "(161297, 6)\n"
     ]
    },
    {
     "data": {
      "image/png": "[encoded data removed]",
      "text/plain": [
       "<Figure size 1440x432 with 1 Axes>"
      ]
     },
     "metadata": {},
     "output_type": "display_data"
    },
    {
     "name": "stdout",
     "output_type": "stream",
     "text": [
      "\n",
      "after filter:\n",
      "\n",
      "            drugName      condition         rating  commentLength\n",
      "count  161220.000000  161220.000000  161220.000000  161220.000000\n",
      "mean     1706.222417     356.133029       6.994529     239.255204\n",
      "std       942.787059     236.974738       3.272155     125.781068\n",
      "min         0.000000      -1.000000       1.000000       0.000000\n",
      "25%       988.000000     165.000000       5.000000     135.000000\n",
      "50%      1748.000000     262.000000       8.000000     236.000000\n",
      "75%      2449.000000     563.000000      10.000000     354.000000\n",
      "max      3435.000000     883.000000      10.000000     996.000000\n",
      "(161220, 6)\n"
     ]
    }
   ],
   "source": [
    "# Plot comment length\n",
    "\n",
    "train_df['commentLength'] = train_df['review'].apply(lambda x: len(x))\n",
    "print('before filter:\\n')\n",
    "print(train_df.describe())\n",
    "print(train_df.shape)\n",
    "\n",
    "plt.figure(figsize=(20, 6))\n",
    "sns.set()\n",
    "ax = sns.distplot( train_df[\"commentLength\"] )\n",
    "plt.show()\n",
    "\n",
    "\n",
    "# Filter the data by comment length\n",
    "\n",
    "train_df = train_df[ (train_df.commentLength < 1000) ]\n",
    "print('\\nafter filter:\\n')\n",
    "print(train_df.describe())\n",
    "print(train_df.shape)"
   ]
  },
  {
   "cell_type": "markdown",
   "metadata": {},
   "source": [
    "feature 一樣使用 sklearn 的 TfidfTransformer 計算 tf-idf值。"
   ]
  },
  {
   "cell_type": "code",
   "execution_count": 151,
   "metadata": {},
   "outputs": [
    {
     "name": "stdout",
     "output_type": "stream",
     "text": [
      "2019-05-16 06:22:45.721846\n",
      "\n",
      "\n",
      "\n",
      "training data shape:\n",
      "(161220, 42987)\n",
      "<class 'scipy.sparse.csr.csr_matrix'>\n",
      "\n",
      "\n",
      "2019-05-16 06:23:09.260433\n"
     ]
    }
   ],
   "source": [
    "# calculate word count & tf-idf\n",
    "\n",
    "from sklearn.feature_extraction.text import TfidfTransformer    \n",
    "from sklearn.feature_extraction.text import CountVectorizer\n",
    "import datetime\n",
    "\n",
    "print(datetime.datetime.now())\n",
    "print('\\n')\n",
    "\n",
    "vectorizer = CountVectorizer()  \n",
    "transformer = TfidfTransformer()  \n",
    "\n",
    "vectorizer.fit(train_df['review'])\n",
    "data_train_x_count = vectorizer.transform(train_df['review'])\n",
    "data_test_x_count = vectorizer.transform(test_df['review'])\n",
    "\n",
    "transformer.fit(data_train_x_count)\n",
    "data_train_x = transformer.transform(data_train_x_count)\n",
    "data_test_x = transformer.transform(data_test_x_count)\n",
    "\n",
    "print('\\ntraining data shape:')\n",
    "print(data_train_x.shape)\n",
    "print(type(data_train_x))\n",
    "\n",
    "print('\\n')\n",
    "print(datetime.datetime.now())"
   ]
  },
  {
   "cell_type": "markdown",
   "metadata": {},
   "source": [
    "印出訓練資料 corpus 中前100個字可以看到數字都被過濾掉了，雖然看起來還是有一些沒有意義的字或錯字。"
   ]
  },
  {
   "cell_type": "code",
   "execution_count": 152,
   "metadata": {},
   "outputs": [
    {
     "name": "stdout",
     "output_type": "stream",
     "text": [
      "2019-05-16 06:23:09.270918\n",
      "\n",
      "\n",
      "corpus size:\n",
      "42987\n",
      "\n",
      "\n",
      "first 100 words in corpus:\n",
      "aa\n",
      "aaa\n",
      "aaaaaammaz\n",
      "aaaaand\n",
      "aaaaarg\n",
      "aaaand\n",
      "aaahh\n",
      "aaand\n",
      "aaccidentpain\n",
      "aacutecea\n",
      "aad\n",
      "aadd\n",
      "aaf\n",
      "aam\n",
      "aap\n",
      "aarp\n",
      "aatd\n",
      "ab\n",
      "aba\n",
      "abacu\n",
      "abad\n",
      "abal\n",
      "aband\n",
      "abandon\n",
      "abat\n",
      "abbott\n",
      "abbrevi\n",
      "abbvi\n",
      "abc\n",
      "abcess\n",
      "abd\n",
      "abdo\n",
      "abdomen\n",
      "abdomendiscontinu\n",
      "abdomin\n",
      "abdomon\n",
      "abduct\n",
      "abe\n",
      "aberr\n",
      "aberva\n",
      "abeva\n",
      "abhorr\n",
      "abi\n",
      "abiblifi\n",
      "abid\n",
      "abil\n",
      "abilfi\n",
      "abilfyand\n",
      "abilify\n",
      "abilifyand\n",
      "abilifyi\n",
      "abilifyjust\n",
      "abilti\n",
      "abit\n",
      "abiut\n",
      "abject\n",
      "abl\n",
      "ablas\n",
      "ablat\n",
      "ablationso\n",
      "ablaz\n",
      "abli\n",
      "ablifi\n",
      "ablilifi\n",
      "ablitli\n",
      "ablot\n",
      "ablut\n",
      "ablw\n",
      "abnom\n",
      "abnomin\n",
      "abnorm\n",
      "abnormali\n",
      "abodin\n",
      "abolish\n",
      "abolutli\n",
      "abomin\n",
      "abonorm\n",
      "aborb\n",
      "abornm\n",
      "abortionand\n",
      "abosolut\n",
      "abound\n",
      "aboutaft\n",
      "aboutbut\n",
      "abouti\n",
      "aboutrac\n",
      "aboutstuff\n",
      "aboutsumm\n",
      "abouy\n",
      "abov\n",
      "above\n",
      "aboveth\n",
      "abras\n",
      "abreba\n",
      "abreeva\n",
      "abrevathre\n",
      "abrevea\n",
      "abrieva\n",
      "abriva\n",
      "abroad\n",
      "\n",
      "\n",
      "2019-05-16 06:23:09.341642\n"
     ]
    }
   ],
   "source": [
    "# Print words in corpus\n",
    "\n",
    "print(datetime.datetime.now())\n",
    "print('\\n')\n",
    "  \n",
    "words = vectorizer.get_feature_names()  \n",
    "print('corpus size:')\n",
    "print(len(words))\n",
    "print('\\n')\n",
    "\n",
    "print('first 100 words in corpus:')\n",
    "showNum = 100\n",
    "countNum = 0\n",
    "for word in words:\n",
    "    print(word)\n",
    "    countNum += 1\n",
    "    if(countNum == showNum):\n",
    "        break\n",
    "\n",
    "print('\\n')\n",
    "print(datetime.datetime.now())"
   ]
  },
  {
   "cell_type": "markdown",
   "metadata": {},
   "source": [
    "## Models"
   ]
  },
  {
   "cell_type": "code",
   "execution_count": 170,
   "metadata": {},
   "outputs": [
    {
     "name": "stdout",
     "output_type": "stream",
     "text": [
      "2019-05-16 06:48:18.855329\n",
      "\n",
      "\n",
      "--- Logistic Regression ---\n",
      "\n",
      "training accuracy:\n",
      "0.8507133110035976\n",
      "\n",
      "testing accuracy:\n",
      "0.7870959342335305\n",
      "\n",
      "precision, recall, fbeta-score:\n",
      "(0.7724340879083824, 0.7870959342335305, 0.7712500315701101, None)\n",
      "\n",
      "confusion matrix(tn, fp, fn, tp):\n",
      "[[12152   354  3701]\n",
      " [ 1381  1149  2680]\n",
      " [ 2816   515 29018]]\n",
      "\n",
      "\n",
      "2019-05-16 06:49:41.975158\n"
     ]
    }
   ],
   "source": [
    "# Logistic Regression\n",
    "\n",
    "from sklearn.metrics import precision_recall_fscore_support\n",
    "from sklearn.metrics import confusion_matrix\n",
    "\n",
    "from sklearn.linear_model import LogisticRegression\n",
    "from sklearn.metrics import accuracy_score\n",
    "\n",
    "print(datetime.datetime.now())\n",
    "print('\\n')\n",
    "\n",
    "print('--- Logistic Regression ---\\n')\n",
    "\n",
    "lr_model = LogisticRegression(max_iter=500, C=100)\n",
    "lr_model.fit(data_train_x, train_df['polarity'])\n",
    "\n",
    "lr_predict_train_y = lr_model.predict(data_train_x)\n",
    "print('training accuracy:')\n",
    "print(accuracy_score(train_df['polarity'], lr_predict_train_y))\n",
    "\n",
    "lr_predict_test_y = lr_model.predict(data_test_x)\n",
    "print('\\ntesting accuracy:')\n",
    "print(accuracy_score(test_df['polarity'], lr_predict_test_y))\n",
    "\n",
    "print('\\nprecision, recall, fbeta-score:')\n",
    "print(precision_recall_fscore_support(test_df['polarity'], lr_predict_test_y, average='weighted'))\n",
    "print('\\nconfusion matrix(tn, fp, fn, tp):')\n",
    "cm_lr = confusion_matrix(test_df['polarity'], lr_predict_test_y)\n",
    "print(cm_lr)\n",
    "\n",
    "print('\\n')\n",
    "print(datetime.datetime.now())"
   ]
  },
  {
   "cell_type": "code",
   "execution_count": 175,
   "metadata": {},
   "outputs": [
    {
     "name": "stdout",
     "output_type": "stream",
     "text": [
      "2019-05-16 06:52:58.528997\n",
      "\n",
      "\n",
      "--- SVC ---\n",
      "\n",
      "training accuracy:\n",
      "0.6033432576603399\n",
      "\n",
      "testing accuracy:\n",
      "0.6013093776736227\n",
      "\n",
      "precision, recall, fbeta-score:\n",
      "(0.5646042264576104, 0.6013093776736227, 0.45316349306355713, None)\n",
      "\n",
      "confusion matrix(tn, fp, fn, tp):\n",
      "[[   27    14 16166]\n",
      " [    4     9  5197]\n",
      " [   12    43 32294]]\n",
      "\n",
      "\n",
      "2019-05-16 06:53:02.418327\n"
     ]
    }
   ],
   "source": [
    "# SVC\n",
    "\n",
    "from sklearn.preprocessing import StandardScaler\n",
    "from sklearn.svm import SVC\n",
    "\n",
    "print(datetime.datetime.now())\n",
    "print('\\n')\n",
    "\n",
    "print('--- SVC ---\\n')\n",
    "\n",
    "\n",
    "# Normalize data\n",
    "\n",
    "scaler = StandardScaler(with_mean=False)\n",
    "scaler.fit(data_train_x)\n",
    "\n",
    "train_normalize = scaler.transform(data_train_x)\n",
    "test_normalize = scaler.transform(data_test_x)\n",
    "\n",
    "\n",
    "# Fit & predict\n",
    "\n",
    "svc_model = SVC(kernel='linear', max_iter=10, C=30, tol=1e-6)\n",
    "svc_model.fit(train_normalize, train_df['polarity'])\n",
    "\n",
    "svc_predict_train_y = svc_model.predict(train_normalize)\n",
    "print('training accuracy:')\n",
    "print(accuracy_score(train_df['polarity'], svc_predict_train_y))\n",
    "\n",
    "svc_predict_test_y = svc_model.predict(test_normalize)\n",
    "print('\\ntesting accuracy:')\n",
    "print(accuracy_score(test_df['polarity'], svc_predict_test_y))\n",
    "\n",
    "print('\\nprecision, recall, fbeta-score:')\n",
    "print(precision_recall_fscore_support(test_df['polarity'], svc_predict_test_y, average='weighted'))\n",
    "print('\\nconfusion matrix(tn, fp, fn, tp):')\n",
    "cm_svc = confusion_matrix(test_df['polarity'], svc_predict_test_y)\n",
    "print(cm_svc)\n",
    "\n",
    "print('\\n')\n",
    "print(datetime.datetime.now())"
   ]
  },
  {
   "cell_type": "code",
   "execution_count": 155,
   "metadata": {},
   "outputs": [
    {
     "name": "stdout",
     "output_type": "stream",
     "text": [
      "2019-05-16 06:23:41.214882\n",
      "\n",
      "\n",
      "--- MultinomialNB - word count ---\n",
      "\n",
      "training accuracy:\n",
      "0.7479779183724103\n",
      "\n",
      "testing accuracy:\n",
      "0.7271137893836254\n",
      "\n",
      "precision, recall, fbeta-score:\n",
      "(0.7026202362211952, 0.7271137893836254, 0.7092270501590702, None)\n",
      "\n",
      "confusion matrix(tn, fp, fn, tp):\n",
      "[[10973   440  4794]\n",
      " [ 1609   704  2897]\n",
      " [ 4093   839 27417]]\n",
      "\n",
      "\n",
      "2019-05-16 06:23:41.590680\n"
     ]
    }
   ],
   "source": [
    "# count - naive bayes\n",
    "\n",
    "from sklearn.naive_bayes import MultinomialNB\n",
    "\n",
    "print(datetime.datetime.now())\n",
    "print('\\n')\n",
    "\n",
    "print('--- MultinomialNB - word count ---\\n')\n",
    "\n",
    "nb_model = MultinomialNB()\n",
    "nb_model.fit(data_train_x_count, train_df['polarity'])\n",
    "\n",
    "nb2_predict_train_y = nb_model.predict(data_train_x_count)\n",
    "print('training accuracy:')\n",
    "print(accuracy_score(train_df['polarity'], nb2_predict_train_y))\n",
    "\n",
    "nb2_predict_test_y = nb_model.predict(data_test_x_count)\n",
    "print('\\ntesting accuracy:')\n",
    "print(accuracy_score(test_df['polarity'], nb2_predict_test_y))\n",
    "\n",
    "print('\\nprecision, recall, fbeta-score:')\n",
    "print(precision_recall_fscore_support(test_df['polarity'], nb2_predict_test_y, average='weighted'))\n",
    "print('\\nconfusion matrix(tn, fp, fn, tp):')\n",
    "cm_nb = confusion_matrix(test_df['polarity'], nb2_predict_test_y)\n",
    "print(cm_nb)\n",
    "\n",
    "print('\\n')\n",
    "print(datetime.datetime.now())"
   ]
  },
  {
   "cell_type": "code",
   "execution_count": 156,
   "metadata": {},
   "outputs": [
    {
     "data": {
      "image/png": "[encoded data removed]",
      "text/plain": [
       "<Figure size 1080x864 with 3 Axes>"
      ]
     },
     "metadata": {},
     "output_type": "display_data"
    }
   ],
   "source": [
    "plt.figure(figsize=(15,12))\n",
    "plt.suptitle(\"Confusion Matrices\",fontsize=24)\n",
    "\n",
    "plt.subplot(3,1,1)\n",
    "plt.title(\"Logistic Regression\")\n",
    "sns.heatmap(cm_lr, annot = True, cmap=\"Greens\",cbar=False);\n",
    "\n",
    "plt.subplot(3,1,2)\n",
    "plt.title(\"SVC\")\n",
    "sns.heatmap(cm_svc, annot = True, cmap=\"Greens\",cbar=False);\n",
    "\n",
    "plt.subplot(3,1,3)\n",
    "plt.title(\"MultinomialNB\")\n",
    "sns.heatmap(cm_nb, annot = True, cmap=\"Greens\",cbar=False);"
   ]
  },
  {
   "cell_type": "markdown",
   "metadata": {},
   "source": [
    "## Improvement\n",
    "\n",
    "雖然前處理多做了stemming, 移除數字、特殊字元等，也多調整了model的參數、改變正負評的劃分，但是結果跟 baseline.ipynb 比較起來，幾乎沒什麼進步，可能這些更動影響的部份都不多，而且 feature 很稀疏，可能被少數 tf-idf 特別大的值給影響，多做的這些更動不太會影響到訓練過程。後來也發現調整模型參數的時候對accuracy之類的影響還比較大QQ。"
   ]
  }
 ],
 "metadata": {
  "kernelspec": {
   "display_name": "Python 3",
   "language": "python",
   "name": "python3"
  },
  "language_info": {
   "codemirror_mode": {
    "name": "ipython",
    "version": 3
   },
   "file_extension": ".py",
   "mimetype": "text/x-python",
   "name": "python",
   "nbconvert_exporter": "python",
   "pygments_lexer": "ipython3",
   "version": "3.5.2"
  }
 },
 "nbformat": 4,
 "nbformat_minor": 2
}
