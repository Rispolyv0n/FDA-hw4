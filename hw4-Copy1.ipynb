{
 "cells": [
  {
   "cell_type": "markdown",
   "metadata": {},
   "source": [
    "# HW4 - Data Analytics\n",
    "- Analyze the data (statistics. correlation…)\n",
    "- Define a reasonable problem (classification. regression. clustering...) and predict the results\n",
    "- Explain how you improved your results step-by-step\n",
    "- Original result -> Reasons -> Your approaches -> Improvement"
   ]
  },
  {
   "cell_type": "markdown",
   "metadata": {},
   "source": [
    "## Define the problem\n",
    "I want to \n",
    "So let's drop the unnecessary columns: Unnamed & date\n",
    "？？？？？？？？？？？？？？？？？？？？"
   ]
  },
  {
   "cell_type": "markdown",
   "metadata": {},
   "source": [
    "## Preprocessing\n",
    "Have a peek of the data.\n",
    "According to the dataset description, there are 6 columns:\n",
    "1. drugName (categorical): name of drug \n",
    "2. condition (categorical): name of condition \n",
    "3. review (text): patient review \n",
    "4. rating (numerical): 10 star patient rating \n",
    "5. date (date): date of review entry \n",
    "6. usefulCount (numerical): number of users who found review useful"
   ]
  },
  {
   "cell_type": "code",
   "execution_count": 60,
   "metadata": {},
   "outputs": [
    {
     "name": "stdout",
     "output_type": "stream",
     "text": [
      "(161297, 7)\n",
      "   Unnamed: 0                  drugName                     condition  \\\n",
      "0      206461                 Valsartan  Left Ventricular Dysfunction   \n",
      "1       95260                Guanfacine                          ADHD   \n",
      "2       92703                    Lybrel                 Birth Control   \n",
      "3      138000                Ortho Evra                 Birth Control   \n",
      "4       35696  Buprenorphine / naloxone             Opiate Dependence   \n",
      "\n",
      "                                              review  rating  \\\n",
      "0  \"It has no side effect, I take it in combinati...     9.0   \n",
      "1  \"My son is halfway through his fourth week of ...     8.0   \n",
      "2  \"I used to take another oral contraceptive, wh...     5.0   \n",
      "3  \"This is my first time using any form of birth...     8.0   \n",
      "4  \"Suboxone has completely turned my life around...     9.0   \n",
      "\n",
      "                date  usefulCount  \n",
      "0       May 20, 2012           27  \n",
      "1     April 27, 2010          192  \n",
      "2  December 14, 2009           17  \n",
      "3   November 3, 2015           10  \n",
      "4  November 27, 2016           37  \n"
     ]
    }
   ],
   "source": [
    "# Read data\n",
    "\n",
    "import pandas as pd\n",
    "import numpy as np\n",
    "\n",
    "train_data_path = './drugsComments/train.tsv'\n",
    "test_data_path = './drugsComments/test.tsv'\n",
    "\n",
    "train_df = pd.read_csv(train_data_path, sep='\\t')\n",
    "test_df = pd.read_csv(test_data_path, sep='\\t')\n",
    "\n",
    "print(train_df.shape)\n",
    "print(train_df.head())"
   ]
  },
  {
   "cell_type": "markdown",
   "metadata": {},
   "source": [
    "Drop the columns `Unnamed` and `date`, which are unnecessary. Then, there are 5 columns left:"
   ]
  },
  {
   "cell_type": "code",
   "execution_count": 61,
   "metadata": {},
   "outputs": [
    {
     "name": "stdout",
     "output_type": "stream",
     "text": [
      "(161297, 5)\n",
      "                   drugName                     condition  \\\n",
      "0                 Valsartan  Left Ventricular Dysfunction   \n",
      "1                Guanfacine                          ADHD   \n",
      "2                    Lybrel                 Birth Control   \n",
      "3                Ortho Evra                 Birth Control   \n",
      "4  Buprenorphine / naloxone             Opiate Dependence   \n",
      "\n",
      "                                              review  rating  usefulCount  \n",
      "0  \"It has no side effect, I take it in combinati...     9.0           27  \n",
      "1  \"My son is halfway through his fourth week of ...     8.0          192  \n",
      "2  \"I used to take another oral contraceptive, wh...     5.0           17  \n",
      "3  \"This is my first time using any form of birth...     8.0           10  \n",
      "4  \"Suboxone has completely turned my life around...     9.0           37  \n",
      "\n",
      "\n",
      "<class 'pandas.core.frame.DataFrame'>\n",
      "RangeIndex: 161297 entries, 0 to 161296\n",
      "Data columns (total 5 columns):\n",
      "drugName       161297 non-null object\n",
      "condition      160398 non-null object\n",
      "review         161297 non-null object\n",
      "rating         161297 non-null float64\n",
      "usefulCount    161297 non-null int64\n",
      "dtypes: float64(1), int64(1), object(3)\n",
      "memory usage: 6.2+ MB\n",
      "None\n"
     ]
    }
   ],
   "source": [
    "# Drop unnecessary columns: Unnamed & date\n",
    "\n",
    "train_df.drop(columns=['Unnamed: 0', 'date'], inplace=True)\n",
    "test_df.drop(columns=['Unnamed: 0', 'date'], inplace=True)\n",
    "\n",
    "print(train_df.shape)\n",
    "print(train_df.head())\n",
    "print('\\n')\n",
    "\n",
    "# Check if there is any null value\n",
    "\n",
    "print(train_df.info())"
   ]
  },
  {
   "cell_type": "markdown",
   "metadata": {},
   "source": [
    "We can see from the result below that there are null values only in 1 column (`condition`). Having these data with no specified condition is not a big issue for our defined problem, so I didn't drop those data. And we can see the average `rating` is around 7."
   ]
  },
  {
   "cell_type": "code",
   "execution_count": 62,
   "metadata": {},
   "outputs": [
    {
     "name": "stdout",
     "output_type": "stream",
     "text": [
      "drug names which are filtered out:\n",
      "47</span> users found this comment helpful.\n",
      "46</span> users found this comment helpful.\n",
      "54</span> users found this comment helpful.\n",
      "121</span> users found this comment helpful.\n",
      "29</span> users found this comment helpful.\n",
      "13</span> users found this comment helpful.\n",
      "61</span> users found this comment helpful.\n",
      "1</span> users found this comment helpful.\n",
      "21</span> users found this comment helpful.\n",
      "36</span> users found this comment helpful.\n",
      "33</span> users found this comment helpful.\n",
      "26</span> users found this comment helpful.\n",
      "34</span> users found this comment helpful.\n",
      "145</span> users found this comment helpful.\n",
      "28</span> users found this comment helpful.\n",
      "30</span> users found this comment helpful.\n",
      "11</span> users found this comment helpful.\n",
      "5</span> users found this comment helpful.\n",
      "8</span> users found this comment helpful.\n",
      "23</span> users found this comment helpful.\n",
      "146</span> users found this comment helpful.\n",
      "27</span> users found this comment helpful.\n",
      "105</span> users found this comment helpful.\n",
      "123</span> users found this comment helpful.\n",
      "92</span> users found this comment helpful.\n",
      "31</span> users found this comment helpful.\n",
      "85</span> users found this comment helpful.\n",
      "20</span> users found this comment helpful.\n",
      "41</span> users found this comment helpful.\n",
      "74</span> users found this comment helpful.\n",
      "37</span> users found this comment helpful.\n",
      "51</span> users found this comment helpful.\n",
      "135</span> users found this comment helpful.\n",
      "19</span> users found this comment helpful.\n",
      "77</span> users found this comment helpful.\n",
      "24</span> users found this comment helpful.\n",
      "142</span> users found this comment helpful.\n",
      "2</span> users found this comment helpful.\n",
      "0</span> users found this comment helpful.\n",
      "15</span> users found this comment helpful.\n",
      "75</span> users found this comment helpful.\n",
      "72</span> users found this comment helpful.\n",
      "43</span> users found this comment helpful.\n",
      "10</span> users found this comment helpful.\n",
      "99</span> users found this comment helpful.\n",
      "40</span> users found this comment helpful.\n",
      "12</span> users found this comment helpful.\n",
      "63</span> users found this comment helpful.\n",
      "100</span> users found this comment helpful.\n",
      "48</span> users found this comment helpful.\n",
      "6</span> users found this comment helpful.\n",
      "83</span> users found this comment helpful.\n",
      "16</span> users found this comment helpful.\n",
      "70</span> users found this comment helpful.\n",
      "110</span> users found this comment helpful.\n",
      "35</span> users found this comment helpful.\n",
      "64</span> users found this comment helpful.\n",
      "17</span> users found this comment helpful.\n",
      "98</span> users found this comment helpful.\n",
      "4</span> users found this comment helpful.\n",
      "3</span> users found this comment helpful.\n",
      "38</span> users found this comment helpful.\n",
      "9</span> users found this comment helpful.\n",
      "14</span> users found this comment helpful.\n",
      "76</span> users found this comment helpful.\n",
      "62</span> users found this comment helpful.\n",
      "25</span> users found this comment helpful.\n",
      "44</span> users found this comment helpful.\n",
      "7</span> users found this comment helpful.\n",
      "95</span> users found this comment helpful.\n",
      "32</span> users found this comment helpful.\n",
      "39</span> users found this comment helpful.\n",
      "22</span> users found this comment helpful.\n",
      "45</span> users found this comment helpful.\n",
      "84</span> users found this comment helpful.\n",
      "42</span> users found this comment helpful.\n",
      "79</span> users found this comment helpful.\n",
      "18</span> users found this comment helpful.\n",
      "94</span> users found this comment helpful.\n",
      "55</span> users found this comment helpful.\n",
      "\n",
      "\n",
      "4482\n",
      "\n",
      "\n",
      "immunosuppress\n",
      "silvaden\n",
      "docusate / senna\n",
      "trandolapril / verapamil\n",
      "benzodiazepine withdraw\n",
      "livalo\n",
      "breast canc\n",
      "erosive esophag\n",
      "verdeso\n",
      "dextrostat\n",
      "diverticul\n",
      "lucenti\n",
      "saizen\n",
      "solarcaine burn relief\n",
      "human papillomavirus prophylaxi\n",
      "motion sick\n",
      "fluticasone / salmeterol\n",
      "halog-\n",
      "estradiol\n",
      "xigduo xr\n"
     ]
    }
   ],
   "source": [
    "# Keep a set which includes all the names of drugs and conditions occurred in the dataset.\n",
    "\n",
    "import re\n",
    "from nltk.stem import WordNetLemmatizer\n",
    "from nltk.stem import PorterStemmer\n",
    "\n",
    "REPLACE_NO_SPACE = re.compile(\"[.;:!\\'?,\\\"()\\[\\]]\")\n",
    "lemmatizer = WordNetLemmatizer()\n",
    "stemmer = PorterStemmer()\n",
    "\n",
    "drugNameSet_train = set(train_df['drugName'])\n",
    "conditionNameSet_train = set(train_df['condition'])\n",
    "drugNameSet_test = set(test_df['drugName'])\n",
    "conditionNameSet_test = set(test_df['condition'])\n",
    "\n",
    "oldDrugSet = drugNameSet_train | conditionNameSet_train | drugNameSet_test | conditionNameSet_test\n",
    "\n",
    "drugSet = set()\n",
    "\n",
    "print('drug names which are filtered out:')\n",
    "for drug in oldDrugSet:\n",
    "    drugStr = str(drug).lower()\n",
    "    if not(\"helpful.\" in drugStr):\n",
    "        drugStr = REPLACE_NO_SPACE.sub(\"\", drugStr)\n",
    "        drugStr = re.sub(\"\\d+\", \"\", drugStr)\n",
    "        #drugStr = lemmatizer.lemmatize(drugStr)\n",
    "        drugStr = stemmer.stem(drugStr)\n",
    "        drugSet.add(drugStr)\n",
    "    else:\n",
    "        print(drugStr)\n",
    "\n",
    "drugSet.remove('nan')\n",
    "\n",
    "# Print `drugSet`\n",
    "\n",
    "print('\\n')\n",
    "print(len(drugSet))\n",
    "print('\\n')\n",
    "showNum = 20\n",
    "countNum = 0\n",
    "for drug in drugSet:\n",
    "    print(drug)\n",
    "    countNum += 1\n",
    "    if(countNum == showNum):\n",
    "        break"
   ]
  },
  {
   "cell_type": "code",
   "execution_count": 63,
   "metadata": {},
   "outputs": [
    {
     "data": {
      "image/png": "[encoded data removed]",
      "text/plain": [
       "<Figure size 432x288 with 1 Axes>"
      ]
     },
     "metadata": {},
     "output_type": "display_data"
    },
    {
     "name": "stdout",
     "output_type": "stream",
     "text": [
      "rating\n",
      "1.0     21619\n",
      "2.0      6931\n",
      "3.0      6513\n",
      "4.0      5012\n",
      "5.0      8013\n",
      "6.0      6343\n",
      "7.0      9456\n",
      "8.0     18890\n",
      "9.0     27531\n",
      "10.0    50989\n",
      "dtype: int64\n"
     ]
    },
    {
     "data": {
      "image/png": "[encoded data removed]",
      "text/plain": [
       "<Figure size 1152x432 with 1 Axes>"
      ]
     },
     "metadata": {},
     "output_type": "display_data"
    }
   ],
   "source": [
    "# Plot the counts of each ratings\n",
    "\n",
    "import matplotlib.pyplot as plt\n",
    "import seaborn as sns\n",
    "\n",
    "plt.figure()\n",
    "sns.set(style=\"darkgrid\")\n",
    "ax = sns.countplot(x=\"rating\", data=train_df)\n",
    "plt.show()\n",
    "print(train_df.groupby(['rating']).size())\n",
    "\n",
    "\n",
    "# Plot the counts of each usefulCount\n",
    "\n",
    "plt.figure(figsize=(16, 6))\n",
    "sns.set()\n",
    "ax = sns.countplot(x=\"usefulCount\", data=train_df)\n",
    "\n",
    "plt.show()"
   ]
  },
  {
   "cell_type": "code",
   "execution_count": 64,
   "metadata": {},
   "outputs": [
    {
     "name": "stdout",
     "output_type": "stream",
     "text": [
      "(161297, 5)\n",
      "   drugName  condition                                             review  \\\n",
      "0      3203        466  \"It has no side effect, I take it in combinati...   \n",
      "1      1431         73  \"My son is halfway through his fourth week of ...   \n",
      "2      1854        165  \"I used to take another oral contraceptive, wh...   \n",
      "3      2285        165  \"This is my first time using any form of birth...   \n",
      "4       516        574  \"Suboxone has completely turned my life around...   \n",
      "\n",
      "   rating  usefulCount  \n",
      "0     9.0           27  \n",
      "1     8.0          192  \n",
      "2     5.0           17  \n",
      "3     8.0           10  \n",
      "4     9.0           37  \n",
      "            drugName      condition         rating    usefulCount\n",
      "count  161297.000000  161297.000000  161297.000000  161297.000000\n",
      "mean     1706.315610     356.111440       6.994377      28.004755\n",
      "std       942.790948     236.961905       3.272329      36.403742\n",
      "min         0.000000      -1.000000       1.000000       0.000000\n",
      "25%       988.000000     165.000000       5.000000       6.000000\n",
      "50%      1748.000000     262.000000       8.000000      16.000000\n",
      "75%      2449.000000     563.000000      10.000000      36.000000\n",
      "max      3435.000000     883.000000      10.000000    1291.000000\n"
     ]
    }
   ],
   "source": [
    "# Categorize the columns `drugName` and `condition`\n",
    "\n",
    "train_df['drugName'] = train_df['drugName'].astype('category')\n",
    "train_df['condition'] = train_df['condition'].astype('category')\n",
    "\n",
    "cat_columns = train_df.select_dtypes(['category']).columns\n",
    "train_df[cat_columns] = train_df[cat_columns].apply(lambda x: x.cat.codes)\n",
    "\n",
    "#train_df['drugName_c'] = train_df['drugName'].apply(lambda x: x.cat.codes)\n",
    "#train_df['condition_c'] = train_df['condition'].apply(lambda x: x.cat.codes)\n",
    "\n",
    "print(train_df.shape)\n",
    "print(train_df.head())\n",
    "print(train_df.describe())"
   ]
  },
  {
   "cell_type": "code",
   "execution_count": 65,
   "metadata": {},
   "outputs": [
    {
     "name": "stdout",
     "output_type": "stream",
     "text": [
      "    rating polarity\n",
      "0      9.0        1\n",
      "1      8.0        1\n",
      "2      5.0        0\n",
      "3      8.0        1\n",
      "4      9.0        1\n",
      "5      2.0       -1\n",
      "6      1.0       -1\n",
      "7     10.0        1\n",
      "8      1.0       -1\n",
      "9      8.0        1\n",
      "10     9.0        1\n",
      "11    10.0        1\n",
      "12     4.0       -1\n",
      "13     4.0       -1\n",
      "14     3.0       -1\n",
      "15     9.0        1\n",
      "16     9.0        1\n",
      "17     9.0        1\n",
      "18    10.0        1\n",
      "19    10.0        1\n",
      "20     8.0        1\n",
      "21    10.0        1\n",
      "22     9.0        1\n",
      "23    10.0        1\n",
      "24     1.0       -1\n",
      "25     7.0        0\n",
      "26    10.0        1\n",
      "27    10.0        1\n",
      "28     6.0        0\n",
      "29     8.0        1\n",
      "training data:\n"
     ]
    },
    {
     "data": {
      "image/png": "[encoded data removed]",
      "text/plain": [
       "<Figure size 432x288 with 1 Axes>"
      ]
     },
     "metadata": {},
     "output_type": "display_data"
    },
    {
     "name": "stdout",
     "output_type": "stream",
     "text": [
      "testing data:\n"
     ]
    },
    {
     "data": {
      "image/png": "[encoded data removed]",
      "text/plain": [
       "<Figure size 432x288 with 1 Axes>"
      ]
     },
     "metadata": {},
     "output_type": "display_data"
    }
   ],
   "source": [
    "# Define `polarity`\n",
    "\n",
    "train_df['polarity'] = pd.cut(train_df['rating'], bins=[-1, 4, 7, 10], labels=[-1, 0, 1])\n",
    "test_df['polarity'] = pd.cut(test_df['rating'], bins=[-1, 4, 7, 10], labels=[-1, 0, 1])\n",
    "\n",
    "print(train_df[['rating', 'polarity']].head(30))\n",
    "\n",
    "\n",
    "# Plot the counts of each `polarity`\n",
    "\n",
    "print('training data:')\n",
    "plt.figure()\n",
    "sns.set()\n",
    "ax = sns.countplot(x=\"polarity\", data=train_df)\n",
    "plt.show()\n",
    "\n",
    "print('testing data:')\n",
    "plt.figure()\n",
    "sns.set()\n",
    "ax = sns.countplot(x=\"polarity\", data=test_df)\n",
    "plt.show()"
   ]
  },
  {
   "cell_type": "code",
   "execution_count": 66,
   "metadata": {},
   "outputs": [
    {
     "name": "stderr",
     "output_type": "stream",
     "text": [
      "  0%|          | 23/161297 [00:00<12:21, 217.49it/s]"
     ]
    },
    {
     "name": "stdout",
     "output_type": "stream",
     "text": [
      "['\"It has no side effect, I take it in combination of Bystolic 5 Mg and Fish Oil\"'\n",
      " '\"My son is halfway through his fourth week of Intuniv. We became concerned when he began this last week, when he started taking the highest dose he will be on. For two days, he could hardly get out of bed, was very cranky, and slept for nearly 8 hours on a drive home from school vacation (very unusual for him.) I called his doctor on Monday morning and she said to stick it out a few days. See how he did at school, and with getting up in the morning. The last two days have been problem free. He is MUCH more agreeable than ever. He is less emotional (a good thing), less cranky. He is remembering all the things he should. Overall his behavior is better. \\r\\nWe have tried many different medications and so far this is the most effective.\"'\n",
      " '\"I used to take another oral contraceptive, which had 21 pill cycle, and was very happy- very light periods, max 5 days, no other side effects. But it contained hormone gestodene, which is not available in US, so I switched to Lybrel, because the ingredients are similar. When my other pills ended, I started Lybrel immediately, on my first day of period, as the instructions said. And the period lasted for two weeks. When taking the second pack- same two weeks. And now, with third pack things got even worse- my third period lasted for two weeks and now it&#039;s the end of the third week- I still have daily brown discharge.\\r\\nThe positive side is that I didn&#039;t have any other side effects. The idea of being period free was so tempting... Alas.\"'\n",
      " '\"This is my first time using any form of birth control. I&#039;m glad I went with the patch, I have been on it for 8 months. At first It decreased my libido but that subsided. The only downside is that it made my periods longer (5-6 days to be exact) I used to only have periods for 3-4 days max also made my cramps intense for the first two days of my period, I never had cramps before using birth control. Other than that in happy with the patch\"'\n",
      " '\"Suboxone has completely turned my life around.  I feel healthier, I&#039;m excelling at my job and I always have money in my pocket and my savings account.  I had none of those before Suboxone and spent years abusing oxycontin.  My paycheck was already spent by the time I got it and I started resorting to scheming and stealing to fund my addiction.  All that is history.  If you&#039;re ready to stop, there&#039;s a good chance that suboxone will put you on the path of great life again.  I have found the side-effects to be minimal compared to oxycontin.  I&#039;m actually sleeping better.   Slight constipation is about it for me.  It truly is amazing. The cost pales in comparison to what I spent on oxycontin.\"']\n"
     ]
    },
    {
     "name": "stderr",
     "output_type": "stream",
     "text": [
      "100%|██████████| 161297/161297 [08:30<00:00, 315.87it/s]\n",
      "100%|██████████| 53766/53766 [02:45<00:00, 324.46it/s]"
     ]
    },
    {
     "name": "stdout",
     "output_type": "stream",
     "text": [
      "\n",
      "\n",
      "['ha side effect take combin mg fish oil'\n",
      " 'son halfway hi fourth week becam concern began thi last week start take highest dose two day could hardli get bed wa veri cranki slept nearli hour drive home school vacat veri unusu call hi doctor monday morn said stick day see school get morn last two day problem free much agreeabl ever less emot good thing less cranki rememb thing overal hi behavior better tri mani differ medic far thi effect'\n",
      " 'use take anoth oral contracept pill cycl wa veri happi veri light period max day side effect contain hormon gestoden avail us switch becaus ingredi similar pill end start immedi first day period instruct said period last two week take second pack two week third pack thing got even wors third period last two week end third week still daili brown discharg posit side didnt ani side effect idea period free wa tempt ala'\n",
      " 'thi first time use ani form birth control im glad went patch month first decreas libido subsid onli downsid made period longer day exact use onli period day max also made cramp intens first two day period never cramp befor use birth control happi patch'\n",
      " 'ha complet turn life around feel healthier im excel job alway money pocket save account none befor spent year abus paycheck wa alreadi spent time got start resort scheme steal fund addict histori readi stop good chanc put path great life found side effect minim compar im actual sleep better slight truli amaz cost pale comparison spent']\n"
     ]
    },
    {
     "name": "stderr",
     "output_type": "stream",
     "text": [
      "\n"
     ]
    }
   ],
   "source": [
    "from nltk.tokenize import sent_tokenize, word_tokenize\n",
    "from nltk.corpus import stopwords\n",
    "from tqdm import tqdm\n",
    "\n",
    "#tqdm_pandas(tqdm())\n",
    "tqdm.pandas()\n",
    "\n",
    "REPLACE_NO_SPACE = re.compile(\"[.;:!\\'?,\\\"()\\[\\]]\")\n",
    "REPLACE_WITH_SPACE = re.compile(\"(<br\\s*/><br\\s*/>)|(\\-)|(\\/)\")\n",
    "\n",
    "stopWords = set(stopwords.words('english'))\n",
    "\n",
    "def filter_stopwords(sentence):\n",
    "    sentence = sentence.replace(\"&#039;\", \"'\")\n",
    "    sentence = sentence.lower()\n",
    "    \n",
    "    sentence = REPLACE_NO_SPACE.sub(\"\", sentence)\n",
    "    sentence = REPLACE_WITH_SPACE.sub(\" \", sentence)\n",
    "    sentence = re.sub(\"\\d+\", \"\", sentence)\n",
    "    \n",
    "    words = word_tokenize(sentence)\n",
    "    wordsFiltered = []\n",
    "    for w in words:\n",
    "        #w_lemma = lemmatizer.lemmatize(w)\n",
    "        w_lemma = stemmer.stem(w)\n",
    "        if (w_lemma not in stopWords) and (w_lemma not in drugSet):\n",
    "            wordsFiltered.append(w_lemma)\n",
    "    joinStr = \" \"\n",
    "    return joinStr.join(wordsFiltered)\n",
    "\n",
    "\n",
    "print(train_df['review'].head().values)\n",
    "\n",
    "train_df['review'] = train_df['review'].progress_apply(filter_stopwords)\n",
    "test_df['review'] = test_df['review'].progress_apply(filter_stopwords)\n",
    "\n",
    "print('\\n')\n",
    "print(train_df['review'].head().values)"
   ]
  },
  {
   "cell_type": "code",
   "execution_count": 67,
   "metadata": {},
   "outputs": [
    {
     "name": "stdout",
     "output_type": "stream",
     "text": [
      "   drugName  condition                                             review  \\\n",
      "0      3203        466             ha side effect take combin mg fish oil   \n",
      "1      1431         73  son halfway hi fourth week becam concern began...   \n",
      "2      1854        165  use take anoth oral contracept pill cycl wa ve...   \n",
      "3      2285        165  thi first time use ani form birth control im g...   \n",
      "4       516        574  ha complet turn life around feel healthier im ...   \n",
      "5       669        160  nd day mg start work rock hard erect howev exp...   \n",
      "6      1748        303  pull cum bit took plan b hour later took pregn...   \n",
      "7       260        164  chang life hope wa first start age clondin man...   \n",
      "8      1662        313  noth problem keppera constant shake arm & amp ...   \n",
      "9      1181        165  pill mani year doctor chang rx wa effect reall...   \n",
      "\n",
      "   rating  usefulCount polarity  commentLength  \n",
      "0     9.0           27        1             38  \n",
      "1     8.0          192        1            397  \n",
      "2     5.0           17        0            418  \n",
      "3     8.0           10        1            252  \n",
      "4     9.0           37        1            336  \n",
      "5     2.0           43       -1            262  \n",
      "6     1.0            5       -1             81  \n",
      "7    10.0           32        1            334  \n",
      "8     1.0           11       -1            127  \n",
      "9     8.0            1        1            402  \n",
      "            drugName      condition         rating    usefulCount  \\\n",
      "count  161297.000000  161297.000000  161297.000000  161297.000000   \n",
      "mean     1706.315610     356.111440       6.994377      28.004755   \n",
      "std       942.790948     236.961905       3.272329      36.403742   \n",
      "min         0.000000      -1.000000       1.000000       0.000000   \n",
      "25%       988.000000     165.000000       5.000000       6.000000   \n",
      "50%      1748.000000     262.000000       8.000000      16.000000   \n",
      "75%      2449.000000     563.000000      10.000000      36.000000   \n",
      "max      3435.000000     883.000000      10.000000    1291.000000   \n",
      "\n",
      "       commentLength  \n",
      "count  161297.000000  \n",
      "mean      241.032158  \n",
      "std       130.701730  \n",
      "min         0.000000  \n",
      "25%       135.000000  \n",
      "50%       237.000000  \n",
      "75%       356.000000  \n",
      "max      5762.000000  \n",
      "(161297, 7)\n"
     ]
    },
    {
     "data": {
      "image/png": "[encoded data removed]",
      "text/plain": [
       "<Figure size 1152x432 with 1 Axes>"
      ]
     },
     "metadata": {},
     "output_type": "display_data"
    },
    {
     "name": "stdout",
     "output_type": "stream",
     "text": [
      "            drugName      condition         rating    usefulCount  \\\n",
      "count  161285.000000  161285.000000  161285.000000  161285.000000   \n",
      "mean     1706.267173     356.105453       6.994426      28.003249   \n",
      "std       942.791614     236.964313       3.272286      36.403063   \n",
      "min         0.000000      -1.000000       1.000000       0.000000   \n",
      "25%       988.000000     165.000000       5.000000       6.000000   \n",
      "50%      1748.000000     262.000000       8.000000      16.000000   \n",
      "75%      2449.000000     563.000000      10.000000      36.000000   \n",
      "max      3435.000000     883.000000      10.000000    1291.000000   \n",
      "\n",
      "       commentLength  \n",
      "count  161285.000000  \n",
      "mean      240.830406  \n",
      "std       128.319962  \n",
      "min         0.000000  \n",
      "25%       135.000000  \n",
      "50%       237.000000  \n",
      "75%       356.000000  \n",
      "max      1854.000000  \n",
      "(161285, 7)\n"
     ]
    }
   ],
   "source": [
    "# Plot comment length\n",
    "\n",
    "train_df['commentLength'] = train_df['review'].apply(lambda x: len(x))\n",
    "print(train_df.head(10))\n",
    "print(train_df.describe())\n",
    "print(train_df.shape)\n",
    "\n",
    "plt.figure(figsize=(16, 6))\n",
    "sns.set()\n",
    "ax = sns.countplot(x=\"commentLength\", data=train_df)\n",
    "\n",
    "plt.show()\n",
    "\n",
    "train_df = train_df[ (train_df.commentLength < 2000) ]\n",
    "print(train_df.describe())\n",
    "print(train_df.shape)"
   ]
  },
  {
   "cell_type": "code",
   "execution_count": 68,
   "metadata": {},
   "outputs": [
    {
     "name": "stdout",
     "output_type": "stream",
     "text": [
      "2019-05-16 00:03:50.875792\n",
      "    drugName  condition                                             review  \\\n",
      "0       3203        466             ha side effect take combin mg fish oil   \n",
      "1       1431         73  son halfway hi fourth week becam concern began...   \n",
      "2       1854        165  use take anoth oral contracept pill cycl wa ve...   \n",
      "3       2285        165  thi first time use ani form birth control im g...   \n",
      "4        516        574  ha complet turn life around feel healthier im ...   \n",
      "5        669        160  nd day mg start work rock hard erect howev exp...   \n",
      "6       1748        303  pull cum bit took plan b hour later took pregn...   \n",
      "7        260        164  chang life hope wa first start age clondin man...   \n",
      "8       1662        313  noth problem keppera constant shake arm & amp ...   \n",
      "9       1181        165  pill mani year doctor chang rx wa effect reall...   \n",
      "10      3062        506  thi medic almost two week start mg work way mg...   \n",
      "11      1685        262  taken anti year improv mostli moder sever side...   \n",
      "12      2387        240  crohn resect year ago mostli remiss sinc recen...   \n",
      "13       928        238  littl bit linger cold give much troubl except ...   \n",
      "14      2150        165  start month ago becaus minim amount contracept...   \n",
      "\n",
      "    rating  usefulCount polarity  commentLength  \n",
      "0      9.0           27        1             38  \n",
      "1      8.0          192        1            397  \n",
      "2      5.0           17        0            418  \n",
      "3      8.0           10        1            252  \n",
      "4      9.0           37        1            336  \n",
      "5      2.0           43       -1            262  \n",
      "6      1.0            5       -1             81  \n",
      "7     10.0           32        1            334  \n",
      "8      1.0           11       -1            127  \n",
      "9      8.0            1        1            402  \n",
      "10     9.0           19        1            339  \n",
      "11    10.0           54        1            229  \n",
      "12     4.0            8       -1            188  \n",
      "13     4.0            1       -1            311  \n",
      "14     3.0           10       -1            436  \n",
      "\n",
      "tfidf:\n",
      "(161285, 43090)\n",
      "<class 'scipy.sparse.csr.csr_matrix'>\n",
      "2019-05-16 00:04:14.526888\n"
     ]
    }
   ],
   "source": [
    "#from sklearn import feature_extraction\n",
    "from sklearn.feature_extraction.text import TfidfTransformer    \n",
    "from sklearn.feature_extraction.text import CountVectorizer\n",
    "import datetime\n",
    "\n",
    "print(datetime.datetime.now())\n",
    "print(train_df.head(15))\n",
    "\n",
    "vectorizer = CountVectorizer()  \n",
    "transformer = TfidfTransformer()  \n",
    "\n",
    "#第一个fit_transform是计算tf-idf 第二个fit_transform是将文本转为词频矩阵  \n",
    "#tfidf = transformer.fit_transform(vectorizer.fit_transform(train_df['review']))\n",
    "vectorizer.fit(train_df['review'])\n",
    "data_train_x_count = vectorizer.transform(train_df['review'])\n",
    "data_test_x_count = vectorizer.transform(test_df['review'])\n",
    "\n",
    "transformer.fit(data_train_x_count)\n",
    "data_train_x = transformer.transform(data_train_x_count)\n",
    "data_test_x = transformer.transform(data_test_x_count)\n",
    "\n",
    "print('\\ntfidf:')\n",
    "print(data_train_x.shape)\n",
    "print(type(data_train_x))\n",
    "\n",
    "print(datetime.datetime.now())"
   ]
  },
  {
   "cell_type": "code",
   "execution_count": 69,
   "metadata": {},
   "outputs": [
    {
     "name": "stdout",
     "output_type": "stream",
     "text": [
      "2019-05-16 00:04:14.534929\n",
      "43090\n"
     ]
    },
    {
     "data": {
      "text/plain": [
       "'\\nshowNum = 30\\ncountNum = 0\\nfor word in words:\\n    print(word)\\n    countNum += 1\\n    if(countNum == showNum):\\n        break\\n\\n# weights = tfidf.asarray()  \\n# print(len(weights))\\nshowNum = 30\\ncountNum = 0\\nfor weight in data_train_x:\\n    print(weight)\\n    countNum += 1\\n    if(countNum == showNum):\\n        break\\n'"
      ]
     },
     "execution_count": 69,
     "metadata": {},
     "output_type": "execute_result"
    }
   ],
   "source": [
    "print(datetime.datetime.now())\n",
    "\n",
    "#获取词袋模型中的所有词语   \n",
    "words = vectorizer.get_feature_names()  \n",
    "print(len(words))\n",
    "\"\"\"\n",
    "showNum = 30\n",
    "countNum = 0\n",
    "for word in words:\n",
    "    print(word)\n",
    "    countNum += 1\n",
    "    if(countNum == showNum):\n",
    "        break\n",
    "\n",
    "# weights = tfidf.asarray()  \n",
    "# print(len(weights))\n",
    "showNum = 30\n",
    "countNum = 0\n",
    "for weight in data_train_x:\n",
    "    print(weight)\n",
    "    countNum += 1\n",
    "    if(countNum == showNum):\n",
    "        break\n",
    "\"\"\""
   ]
  },
  {
   "cell_type": "code",
   "execution_count": 70,
   "metadata": {},
   "outputs": [
    {
     "name": "stdout",
     "output_type": "stream",
     "text": [
      "2019-05-16 00:04:15.068345\n",
      "training accuracy:\n",
      "0.7615773320519578\n",
      "\n",
      "testing accuracy:\n",
      "0.7430904288955845\n"
     ]
    }
   ],
   "source": [
    "from sklearn.linear_model import LogisticRegression, SGDClassifier\n",
    "from sklearn.metrics import accuracy_score\n",
    "\n",
    "print(datetime.datetime.now())\n",
    "\n",
    "lr_model = LogisticRegression(max_iter=1000)\n",
    "#lr_model = SGDClassifier(loss='log',  max_iter=800)\n",
    "lr_model.fit(data_train_x, train_df['polarity'])\n",
    "\n",
    "predict_train_y = lr_model.predict(data_train_x)\n",
    "print('training accuracy:')\n",
    "print(accuracy_score(train_df['polarity'], predict_train_y))\n",
    "\n",
    "lr_predict_test_y = lr_model.predict(data_test_x)\n",
    "print('\\ntesting accuracy:')\n",
    "print(accuracy_score(test_df['polarity'], lr_predict_test_y))"
   ]
  },
  {
   "cell_type": "code",
   "execution_count": 71,
   "metadata": {},
   "outputs": [],
   "source": [
    "ori_ori_data_train_x = data_train_x\n",
    "ori_data_train_x = data_train_x"
   ]
  },
  {
   "cell_type": "code",
   "execution_count": 72,
   "metadata": {},
   "outputs": [
    {
     "name": "stdout",
     "output_type": "stream",
     "text": [
      "2019-05-16 00:04:28.789668\n",
      "\n",
      "\n",
      "(161285, 43090)\n",
      "(161285,)\n",
      "<class 'scipy.sparse.csr.csr_matrix'>\n",
      "  (0, 37117)\t0.1507057840943077\n",
      "  (0, 34356)\t0.18138486645706992\n",
      "  (0, 25356)\t0.5204417142963665\n",
      "  (0, 22295)\t0.21454851143178258\n",
      "  (0, 15513)\t0.19424748845401935\n",
      "  (0, 13441)\t0.6201883884160915\n",
      "  (0, 11195)\t0.17222934461875522\n",
      "  (0, 6961)\t0.4188889877746695\n",
      "(1, 43090)\n",
      "shape after scaling:\n",
      "(161285, 43090)\n",
      "\n",
      "\n",
      "training accuracy:\n",
      "0.5736181293982702\n",
      "\n",
      "testing accuracy:\n",
      "0.572090168507979\n",
      "\n",
      "\n",
      "2019-05-16 00:04:44.428769\n"
     ]
    }
   ],
   "source": [
    "from sklearn.svm import SVC\n",
    "\n",
    "print(datetime.datetime.now())\n",
    "print('\\n')\n",
    "\n",
    "print(data_train_x.shape)\n",
    "print(train_df['polarity'].shape)\n",
    "\n",
    "print(type(data_train_x))\n",
    "\n",
    "print(data_train_x[0])\n",
    "print(data_train_x[0].toarray().shape)\n",
    "\n",
    "# Here !!!!!!!!!!!!!!!!!!!\n",
    "# Normalize data\n",
    "\n",
    "from sklearn.preprocessing import MinMaxScaler, RobustScaler, StandardScaler\n",
    "\n",
    "#scaler = MinMaxScaler()\n",
    "#scaler = RobustScaler()\n",
    "scaler = StandardScaler(with_mean=False)\n",
    "scaler.fit(data_train_x) #scaler.fit(train_df.append(test_df, ignore_index=True))\n",
    "\n",
    "train_normalize = scaler.transform(data_train_x)\n",
    "#train_normalize = np.transpose(train_normalize)\n",
    "\n",
    "test_normalize = scaler.transform(data_test_x)\n",
    "#test_normalize = np.transpose(test_normalize)\n",
    "\n",
    "print('shape after scaling:')\n",
    "print(train_normalize.shape)\n",
    "print('\\n')\n",
    "\n",
    "# Up There !!!!!!!!!!!!!!!\n",
    "\n",
    "svc_model = SVC(kernel='linear', max_iter=50) #(kernel='linear', C=1, tol=1e-5)\n",
    "svc_model.fit(train_normalize, train_df['polarity'])\n",
    "\n",
    "predict_train_y = svc_model.predict(train_normalize)\n",
    "print('training accuracy:')\n",
    "print(accuracy_score(train_df['polarity'], predict_train_y))\n",
    "\n",
    "svc_predict_test_y = svc_model.predict(test_normalize)\n",
    "print('\\ntesting accuracy:')\n",
    "print(accuracy_score(test_df['polarity'], svc_predict_test_y))\n",
    "\n",
    "print('\\n')\n",
    "print(datetime.datetime.now())"
   ]
  },
  {
   "cell_type": "code",
   "execution_count": 73,
   "metadata": {},
   "outputs": [
    {
     "name": "stdout",
     "output_type": "stream",
     "text": [
      "2019-05-16 00:04:44.439733\n",
      "\n",
      "\n",
      "training accuracy:\n",
      "0.6617540378832502\n",
      "\n",
      "testing accuracy:\n",
      "0.6492392962095004\n",
      "\n",
      "\n",
      "2019-05-16 00:04:44.650260\n"
     ]
    }
   ],
   "source": [
    "# tfidf - naive bayes\n",
    "\n",
    "from sklearn.naive_bayes import MultinomialNB\n",
    "\n",
    "print(datetime.datetime.now())\n",
    "print('\\n')\n",
    "\n",
    "nb_model = MultinomialNB()\n",
    "nb_model.fit(data_train_x, train_df['polarity'])\n",
    "\n",
    "predict_train_y = nb_model.predict(data_train_x)\n",
    "print('training accuracy:')\n",
    "print(accuracy_score(train_df['polarity'], predict_train_y))\n",
    "\n",
    "svc_predict_test_y = nb_model.predict(data_test_x)\n",
    "print('\\ntesting accuracy:')\n",
    "print(accuracy_score(test_df['polarity'], svc_predict_test_y))\n",
    "\n",
    "print('\\n')\n",
    "print(datetime.datetime.now())"
   ]
  },
  {
   "cell_type": "code",
   "execution_count": 76,
   "metadata": {},
   "outputs": [
    {
     "name": "stdout",
     "output_type": "stream",
     "text": [
      "2019-05-16 00:52:28.625533\n",
      "\n",
      "\n",
      "(161285, 43090)\n",
      "  (0, 6961)\t1\n",
      "  (0, 11195)\t1\n",
      "  (0, 13441)\t1\n",
      "  (0, 15513)\t1\n",
      "  (0, 22295)\t1\n",
      "  (0, 25356)\t1\n",
      "  (0, 34356)\t1\n",
      "  (0, 37117)\t1\n",
      "training accuracy:\n",
      "0.7303283008339275\n",
      "\n",
      "testing accuracy:\n",
      "0.7069709481828665\n",
      "\n",
      "\n",
      "2019-05-16 00:52:28.928152\n"
     ]
    }
   ],
   "source": [
    "# count - naive bayes\n",
    "\n",
    "from sklearn.naive_bayes import MultinomialNB\n",
    "\n",
    "print(datetime.datetime.now())\n",
    "print('\\n')\n",
    "\n",
    "print(data_train_x_count.shape)\n",
    "print(data_train_x_count[0])\n",
    "\n",
    "nb_model = MultinomialNB()\n",
    "nb_model.fit(data_train_x_count, train_df['polarity'])\n",
    "\n",
    "predict_train_y = nb_model.predict(data_train_x_count)\n",
    "print('training accuracy:')\n",
    "print(accuracy_score(train_df['polarity'], predict_train_y))\n",
    "\n",
    "svc_predict_test_y = nb_model.predict(data_test_x_count)\n",
    "print('\\ntesting accuracy:')\n",
    "print(accuracy_score(test_df['polarity'], svc_predict_test_y))\n",
    "\n",
    "print('\\n')\n",
    "print(datetime.datetime.now())"
   ]
  },
  {
   "cell_type": "markdown",
   "metadata": {},
   "source": [
    "- drugSet cleaning"
   ]
  }
 ],
 "metadata": {
  "kernelspec": {
   "display_name": "Python 3",
   "language": "python",
   "name": "python3"
  },
  "language_info": {
   "codemirror_mode": {
    "name": "ipython",
    "version": 3
   },
   "file_extension": ".py",
   "mimetype": "text/x-python",
   "name": "python",
   "nbconvert_exporter": "python",
   "pygments_lexer": "ipython3",
   "version": "3.5.2"
  }
 },
 "nbformat": 4,
 "nbformat_minor": 2
}
